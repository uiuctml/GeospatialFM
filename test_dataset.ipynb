{
 "cells": [
  {
   "cell_type": "code",
   "execution_count": 16,
   "metadata": {},
   "outputs": [
    {
     "name": "stdout",
     "output_type": "stream",
     "text": [
      "The autoreload extension is already loaded. To reload it, use:\n",
      "  %reload_ext autoreload\n"
     ]
    }
   ],
   "source": [
    "import os\n",
    "import math\n",
    "import numpy as np\n",
    "\n",
    "import torch\n",
    "from torchvision import transforms\n",
    "from torchvision.transforms import functional as TF\n",
    "from torch.utils.data import DataLoader\n",
    "from datasets import load_dataset, load_dataset_builder, get_dataset_infos\n",
    "from tqdm import tqdm\n",
    "from argparse import Namespace\n",
    "\n",
    "from GeospatialFM.datasets.GFMBench.utils import get_dataset, get_metadata\n",
    "from GeospatialFM.data_process import modal_specific_collate_fn, get_transform\n",
    "from GeospatialFM.finetune.utils import get_task_model, get_loss_fn\n",
    "from GeospatialFM.finetune.args import parse_args\n",
    "from GeospatialFM.models import SpatialSpectralLowRankViTConfig, SpatialSpectralMAEViT\n",
    "from GeospatialFM.finetune.linear_probe import compute_encoding\n",
    "\n",
    "from functools import partial\n",
    "from accelerate import Accelerator\n",
    "from transformers import TrainingArguments\n",
    "from safetensors import safe_open\n",
    "\n",
    "import matplotlib as mpl\n",
    "import matplotlib.pyplot as plt\n",
    "from matplotlib.gridspec import GridSpec\n",
    "import rasterio\n",
    "import pandas as pd\n",
    "import json\n",
    "from sklearn.decomposition import PCA\n",
    "import cv2\n",
    "\n",
    "%load_ext autoreload\n",
    "%autoreload 2"
   ]
  },
  {
   "cell_type": "code",
   "execution_count": 2,
   "metadata": {},
   "outputs": [],
   "source": [
    "def pca_vis_patch(patch, n_components=3):\n",
    "    # perform PCA on patch\n",
    "    pca = PCA(n_components=n_components)\n",
    "    B, L, D = patch.shape\n",
    "    patch_ = patch.reshape(B*L, D)\n",
    "    try:\n",
    "        patch_ = patch_.cpu().numpy()\n",
    "    except:\n",
    "        pass\n",
    "    pca.fit(patch_)\n",
    "    patch_pca = pca.transform(patch_)\n",
    "\n",
    "    preprocessed_patches = patch_pca.reshape(B, int(L**0.5), int(L**0.5), 3)\n",
    "    return preprocessed_patches\n",
    "\n",
    "def norm_image(image):\n",
    "    image = image - image.min()\n",
    "    image = image / image.max()\n",
    "    return image"
   ]
  },
  {
   "cell_type": "code",
   "execution_count": 3,
   "metadata": {},
   "outputs": [],
   "source": [
    "ROOT_DIR=\"/home/haozhesi/Dropbox/GeospatialFM\""
   ]
  },
  {
   "cell_type": "code",
   "execution_count": 27,
   "metadata": {},
   "outputs": [],
   "source": [
    "args = parse_args([\n",
    "    \"--data_dir\", ROOT_DIR + \"/data/geospatial\",\n",
    "    \"--dataset_name\", \"eurosat\",\n",
    "    \"--task_type\", \"classification\", \n",
    "    \"--scale\", \"2\",\n",
    "    \"--modal\", \"multi\",\n",
    "    \"--return_dict\",\n",
    "    \"--per_device_train_batch_size\", \"64\",\n",
    "    \"--gradient_accumulation_steps\", \"4\", \n",
    "    \"--num_train_epochs\", \"20\",\n",
    "    \"--learning_rate\", \"3e-4\",\n",
    "    \"--adam_weight_decay\", \"0.01\",\n",
    "    \"--warmup_steps\", \"0\",\n",
    "    \"--warmup_ratio\", \"0.2\",\n",
    "    \"--report_to\", \"wandb\",\n",
    "    \"--save_total_limit\", \"5\",\n",
    "    \"--seed\", \"42\",\n",
    "    \"--mixed_precision\", \"bf16\",\n",
    "    \"--dataloader_num_workers\", \"32\",\n",
    "    \"--dataloader_pin_memory\",\n",
    "    \"--output_dir\", ROOT_DIR + \"/results/models\",\n",
    "    \"--logging_dir\", ROOT_DIR + \"/results/logs\", \n",
    "    \"--wandb_dir\", ROOT_DIR + \"/results/\",\n",
    "    \"--run_name\", \"LESSVIT_b2_d4_eurosat\",\n",
    "    \"--lr_scheduler_type\", \"cosine\",\n",
    "    \"--channel_embed_dims_per_head\", \"2\",\n",
    "    \"--use_perception_field_mask\",\n",
    "    \"--use_moe\",\n",
    "    \"--num_experts\", \"3\"\n",
    "])"
   ]
  },
  {
   "cell_type": "code",
   "execution_count": 29,
   "metadata": {},
   "outputs": [],
   "source": [
    "metadata = get_metadata(args.dataset_name)\n",
    "args.crop_size = metadata[\"size\"] if args.crop_size is None else args.crop_size\n",
    "\n",
    "optical_mean, optical_std = metadata[\"s2c\"][\"mean\"], metadata[\"s2c\"][\"std\"]\n",
    "radar_mean, radar_std = metadata[\"s1\"][\"mean\"], metadata[\"s1\"][\"std\"]\n",
    "\n",
    "collate_fn = partial(modal_specific_collate_fn, modal=args.modal)\n",
    "\n",
    "train_transform, eval_transform = get_transform(args.task_type, args.crop_size, args.scale, args.random_rotation, \n",
    "                                                optical_mean, optical_std, radar_mean, radar_std)\n",
    "dataset = get_dataset(args, train_transform, eval_transform)"
   ]
  },
  {
   "cell_type": "code",
   "execution_count": 30,
   "metadata": {},
   "outputs": [
    {
     "data": {
      "text/plain": [
       "{'train': Dataset({\n",
       "     features: ['optical', 'label', 'optical_channel_wv', 'spatial_resolution'],\n",
       "     num_rows: 16200\n",
       " }),\n",
       " 'val': Dataset({\n",
       "     features: ['optical', 'label', 'optical_channel_wv', 'spatial_resolution'],\n",
       "     num_rows: 5400\n",
       " }),\n",
       " 'test': Dataset({\n",
       "     features: ['optical', 'label', 'optical_channel_wv', 'spatial_resolution'],\n",
       "     num_rows: 5400\n",
       " })}"
      ]
     },
     "execution_count": 30,
     "metadata": {},
     "output_type": "execute_result"
    }
   ],
   "source": [
    "dataset"
   ]
  },
  {
   "cell_type": "code",
   "execution_count": 10,
   "metadata": {},
   "outputs": [
    {
     "data": {
      "text/plain": [
       "{'s2c': {'bands': ['B1',\n",
       "   'B2',\n",
       "   'B3',\n",
       "   'B4',\n",
       "   'B5',\n",
       "   'B6',\n",
       "   'B7',\n",
       "   'B8',\n",
       "   'B8A',\n",
       "   'B9',\n",
       "   'B10',\n",
       "   'B11',\n",
       "   'B12'],\n",
       "  'channel_wv': [442.7,\n",
       "   492.4,\n",
       "   559.8,\n",
       "   664.6,\n",
       "   704.1,\n",
       "   740.5,\n",
       "   782.8,\n",
       "   832.8,\n",
       "   864.7,\n",
       "   945.1,\n",
       "   1373.5,\n",
       "   1613.7,\n",
       "   2202.4],\n",
       "  'mean': [1354.40546513,\n",
       "   1118.24399958,\n",
       "   1042.92983953,\n",
       "   947.62620298,\n",
       "   1199.47283961,\n",
       "   1999.79090914,\n",
       "   2369.22292565,\n",
       "   2296.82608323,\n",
       "   732.08340178,\n",
       "   12.11327804,\n",
       "   1819.01027855,\n",
       "   1118.92391149,\n",
       "   2594.14080798],\n",
       "  'std': [245.71762908,\n",
       "   333.00778264,\n",
       "   395.09249139,\n",
       "   593.75055589,\n",
       "   566.4170017,\n",
       "   861.18399006,\n",
       "   1086.63139075,\n",
       "   1117.98170791,\n",
       "   404.91978886,\n",
       "   4.77584468,\n",
       "   1002.58768311,\n",
       "   761.30323499,\n",
       "   1231.58581042]},\n",
       " 's1': {'bands': None, 'channel_wv': None, 'mean': None, 'std': None},\n",
       " 'size': 64,\n",
       " 'num_classes': 10,\n",
       " 'spatial_resolution': 10}"
      ]
     },
     "execution_count": 10,
     "metadata": {},
     "output_type": "execute_result"
    }
   ],
   "source": [
    "json.loads(datasets['train'].info.description)\n",
    "\n"
   ]
  },
  {
   "cell_type": "code",
   "execution_count": null,
   "metadata": {},
   "outputs": [],
   "source": []
  }
 ],
 "metadata": {
  "kernelspec": {
   "display_name": "sat",
   "language": "python",
   "name": "python3"
  },
  "language_info": {
   "codemirror_mode": {
    "name": "ipython",
    "version": 3
   },
   "file_extension": ".py",
   "mimetype": "text/x-python",
   "name": "python",
   "nbconvert_exporter": "python",
   "pygments_lexer": "ipython3",
   "version": "3.10.0"
  }
 },
 "nbformat": 4,
 "nbformat_minor": 2
}
