{
 "cells": [
  {
   "cell_type": "code",
   "execution_count": 1,
   "metadata": {},
   "outputs": [
    {
     "name": "stderr",
     "output_type": "stream",
     "text": [
      "/home/haozhesi/anaconda3/envs/sat/lib/python3.10/site-packages/tqdm/auto.py:21: TqdmWarning: IProgress not found. Please update jupyter and ipywidgets. See https://ipywidgets.readthedocs.io/en/stable/user_install.html\n",
      "  from .autonotebook import tqdm as notebook_tqdm\n"
     ]
    }
   ],
   "source": [
    "import argparse\n",
    "\n",
    "from tqdm import trange, tqdm\n",
    "import random\n",
    "import pandas as pd\n",
    "from copy import deepcopy\n",
    "\n",
    "from sklearn.manifold import TSNE\n",
    "import umap\n",
    "\n",
    "import matplotlib.pyplot as plt\n",
    "\n",
    "from sklearn.neighbors import KNeighborsClassifier\n",
    "from sklearn.metrics import accuracy_score\n",
    "\n",
    "from sklearn.cluster import KMeans\n",
    "from sklearn.preprocessing import StandardScaler\n",
    "from scipy.optimize import linear_sum_assignment\n",
    "from sklearn.metrics import confusion_matrix\n",
    "\n",
    "import os\n",
    "import math\n",
    "import numpy as np\n",
    "\n",
    "import torch\n",
    "from torchvision import transforms\n",
    "from torchvision.transforms import functional as TF\n",
    "from torch.utils.data import DataLoader\n",
    "from datasets import load_dataset\n",
    "from tqdm import tqdm\n",
    "from argparse import Namespace\n",
    "\n",
    "from GeospatialFM.datasets.GFMBench.utils import get_dataset, get_metadata\n",
    "from GeospatialFM.data_process import get_transform\n",
    "from GeospatialFM.finetune.utils import get_task_model, get_loss_fn\n",
    "from GeospatialFM.finetune.args import parse_args\n",
    "from GeospatialFM.models import SpatialSpectralLowRankViTConfig, SpatialSpectralMAEViT\n",
    "from GeospatialFM.finetune.linear_probe import compute_encoding\n",
    "from GeospatialFM.data_process.collate_func import modal_specific_collate_fn\n",
    "\n",
    "from datasets.fingerprint import Hasher\n",
    "\n",
    "from functools import partial\n",
    "from accelerate import Accelerator\n",
    "from transformers import TrainingArguments\n",
    "from safetensors import safe_open\n",
    "\n",
    "import matplotlib as mpl\n",
    "import matplotlib.pyplot as plt\n",
    "from matplotlib.gridspec import GridSpec\n",
    "import rasterio\n",
    "import pandas as pd\n",
    "import json\n",
    "from sklearn.decomposition import PCA\n",
    "\n",
    "%load_ext autoreload\n",
    "%autoreload 2\n",
    "\n",
    "import time"
   ]
  },
  {
   "cell_type": "code",
   "execution_count": 2,
   "metadata": {},
   "outputs": [],
   "source": [
    "EUROSAT_CLS = [\n",
    "    \"Annual Crop\",\n",
    "    \"Forest\",\n",
    "    \"Herbaceous Vegetation\",\n",
    "    \"Highway\",\n",
    "    \"Industrial Buildings\",\n",
    "    \"Pasture\",\n",
    "    \"Permanent Crop\",\n",
    "    \"Residential Buildings\",\n",
    "    \"River\",\n",
    "    \"Sea & Lake\"\n",
    "]"
   ]
  },
  {
   "cell_type": "code",
   "execution_count": 3,
   "metadata": {},
   "outputs": [],
   "source": [
    "ROOT_DIR=\"/home/haozhesi/GeospatialFM\""
   ]
  },
  {
   "cell_type": "code",
   "execution_count": 22,
   "metadata": {},
   "outputs": [],
   "source": [
    "EMBED_DIMS = 2\n",
    "DEPTH = 4\n",
    "CHECKPOINT = 24600\n",
    "MOE = 0\n",
    "SCALE = 2\n",
    "TOPK = 1\n",
    "DATASET = \"eurosat\"\n",
    "RANK = 1\n",
    "POST_FIX = \"\"\n",
    "\n",
    "args = parse_args([\n",
    "    \"--data_dir\", ROOT_DIR + \"/data/geospatial-2/\",\n",
    "    \"--dataset_name\", DATASET,\n",
    "    \"--task_type\", \"classification\",\n",
    "    \"--scale\", \"1\",\n",
    "    \"--modal\", \"optical\", \n",
    "    \"--return_dict\",\n",
    "    \"--embed_dim\", \"384\",\n",
    "    \"--num_heads\", \"6\",\n",
    "    \"--per_device_train_batch_size\", \"32\",\n",
    "    \"--gradient_accumulation_steps\", \"2\",\n",
    "    \"--num_train_epochs\", \"20\", \n",
    "    \"--learning_rate\", \"1e-4\",\n",
    "    \"--weight_decay\", \"0.01\",\n",
    "    \"--warmup_steps\", \"0\",\n",
    "    \"--warmup_ratio\", \"0.2\",\n",
    "    \"--report_to\", \"none\",\n",
    "    \"--save_total_limit\", \"5\",\n",
    "    \"--seed\", \"42\",\n",
    "    \"--mixed_precision\", \"bf16\",\n",
    "    \"--dataloader_num_workers\", \"32\",\n",
    "    \"--dataloader_pin_memory\",\n",
    "    \"--output_dir\", ROOT_DIR + \"/results/models\",\n",
    "    \"--logging_dir\", ROOT_DIR + \"/results/logs\",\n",
    "    \"--wandb_dir\", ROOT_DIR + \"/results/\",\n",
    "    \"--run_name\", f\"LESSVIT-S{EMBED_DIMS}_d{DEPTH}_r{RANK}_c{CHECKPOINT}_{DATASET}_moe{MOE}_topk{TOPK}_scale{SCALE}\",\n",
    "    \"--lr_scheduler_type\", \"cosine\",\n",
    "    \"--channel_embed_dims_per_head\", str(EMBED_DIMS),\n",
    "    \"--use_perception_field_mask\",\n",
    "    \"--pretrained_model_path\", f\"{ROOT_DIR}/results/models/LESSVIT_s{EMBED_DIMS}_d{DEPTH}_r{RANK}{POST_FIX}/checkpoint-{CHECKPOINT}/model.safetensors\",\n",
    "    \"--use_moe\",\n",
    "    \"--num_experts\", str(MOE),\n",
    "    \"--attention_radius\", \"640\",\n",
    "    \"--n_trials\", \"10\",\n",
    "    \"--use_early_stopping\",\n",
    "    \"--early_stopping_patience\", \"5\", \n",
    "    \"--topk\", str(TOPK),\n",
    "    \"--init_values\", \"1.0\",\n",
    "    \"--rank\", str(RANK),\n",
    "])"
   ]
  },
  {
   "cell_type": "code",
   "execution_count": 23,
   "metadata": {},
   "outputs": [
    {
     "name": "stderr",
     "output_type": "stream",
     "text": [
      "Downloading builder script: 100%|██████████| 4.30k/4.30k [00:00<00:00, 81.1kB/s]\n",
      "Downloading readme: 100%|██████████| 2.75k/2.75k [00:00<00:00, 63.8kB/s]\n",
      "Downloading builder script: 100%|██████████| 4.30k/4.30k [00:00<00:00, 76.6kB/s]\n",
      "Downloading readme: 100%|██████████| 2.75k/2.75k [00:00<00:00, 70.5kB/s]\n"
     ]
    },
    {
     "name": "stdout",
     "output_type": "stream",
     "text": [
      "{\"s2c\": {\"bands\": [\"B1\", \"B2\", \"B3\", \"B4\", \"B5\", \"B6\", \"B7\", \"B8\", \"B8A\", \"B9\", \"B10\", \"B11\", \"B12\"], \"channel_wv\": [442.7, 492.4, 559.8, 664.6, 704.1, 740.5, 782.8, 832.8, 864.7, 945.1, 1373.5, 1613.7, 2202.4], \"mean\": [1354.40546513, 1118.24399958, 1042.92983953, 947.62620298, 1199.47283961, 1999.79090914, 2369.22292565, 2296.82608323, 732.08340178, 12.11327804, 1819.01027855, 1118.92391149, 2594.14080798], \"std\": [245.71762908, 333.00778264, 395.09249139, 593.75055589, 566.4170017, 861.18399006, 1086.63139075, 1117.98170791, 404.91978886, 4.77584468, 1002.58768311, 761.30323499, 1231.58581042]}, \"s1\": {\"bands\": null, \"channel_wv\": null, \"mean\": null, \"std\": null}, \"size\": 64, \"num_classes\": 10, \"spatial_resolution\": 10}\n"
     ]
    }
   ],
   "source": [
    "metadata = get_metadata(args.dataset_name)\n",
    "args.crop_size = metadata[\"size\"] if args.crop_size is None else args.crop_size\n",
    "\n",
    "optical_mean, optical_std = metadata[\"s2c\"][\"mean\"], metadata[\"s2c\"][\"std\"]\n",
    "radar_mean, radar_std = metadata[\"s1\"][\"mean\"], metadata[\"s1\"][\"std\"]\n",
    "\n",
    "collate_fn = partial(modal_specific_collate_fn, modal=args.modal)\n",
    "\n",
    "train_transform, eval_transform = get_transform(args.task_type, args.crop_size, args.scale, args.random_rotation, \n",
    "                                                optical_mean, optical_std, radar_mean, radar_std)\n",
    "dataset = get_dataset(args, train_transform, eval_transform)"
   ]
  },
  {
   "cell_type": "code",
   "execution_count": 24,
   "metadata": {},
   "outputs": [
    {
     "name": "stdout",
     "output_type": "stream",
     "text": [
      "/home/haozhesi/GeospatialFM/results/models/LESSVIT_s2_d4_r1/checkpoint-24600/model.safetensors\n"
     ]
    }
   ],
   "source": [
    "# Initialize model\n",
    "model = get_task_model(args, metadata[\"num_classes\"], metadata[\"size\"])\n",
    "# load from checkpoint if provided\n",
    "print(args.pretrained_model_path)\n",
    "if args.pretrained_model_path:\n",
    "    model.load_pretrained_encoder(args.pretrained_model_path)"
   ]
  },
  {
   "cell_type": "code",
   "execution_count": 25,
   "metadata": {},
   "outputs": [
    {
     "name": "stdout",
     "output_type": "stream",
     "text": [
      "Number of parameters in the model: 21049738\n"
     ]
    }
   ],
   "source": [
    "# count the number of parameters in the model\n",
    "print(f\"Number of parameters in the model: {sum(p.numel() for p in model.parameters())}\")"
   ]
  },
  {
   "cell_type": "code",
   "execution_count": 26,
   "metadata": {},
   "outputs": [
    {
     "ename": "NameError",
     "evalue": "name 'dataset' is not defined",
     "output_type": "error",
     "traceback": [
      "\u001b[0;31m---------------------------------------------------------------------------\u001b[0m",
      "\u001b[0;31mNameError\u001b[0m                                 Traceback (most recent call last)",
      "Cell \u001b[0;32mIn[26], line 15\u001b[0m\n\u001b[1;32m     12\u001b[0m \u001b[38;5;66;03m# preprocess dataset\u001b[39;00m\n\u001b[1;32m     13\u001b[0m compute_encoding_fn \u001b[38;5;241m=\u001b[39m partial(compute_encoding, model\u001b[38;5;241m=\u001b[39mencoder, task_type\u001b[38;5;241m=\u001b[39margs\u001b[38;5;241m.\u001b[39mtask_type, modal\u001b[38;5;241m=\u001b[39margs\u001b[38;5;241m.\u001b[39mmodal)\n\u001b[0;32m---> 15\u001b[0m \u001b[38;5;28;01mfor\u001b[39;00m split, dataset_split \u001b[38;5;129;01min\u001b[39;00m \u001b[43mdataset\u001b[49m\u001b[38;5;241m.\u001b[39mitems():\n\u001b[1;32m     16\u001b[0m     \u001b[38;5;28;01mif\u001b[39;00m split \u001b[38;5;241m==\u001b[39m \u001b[38;5;124m'\u001b[39m\u001b[38;5;124mval\u001b[39m\u001b[38;5;124m'\u001b[39m:\n\u001b[1;32m     17\u001b[0m         \u001b[38;5;28;01mcontinue\u001b[39;00m\n",
      "\u001b[0;31mNameError\u001b[0m: name 'dataset' is not defined"
     ]
    }
   ],
   "source": [
    "if args.freeze_encoder:\n",
    "    for param in model.encoder.parameters():\n",
    "        param.requires_grad = False\n",
    "\n",
    "if args.gradient_checkpointing:\n",
    "    model.gradient_checkpointing_enable()\n",
    "    \n",
    "encoder = model.encoder\n",
    "task_head = model.classifier\n",
    "encoder.cuda().eval()\n",
    "\n",
    "# preprocess dataset\n",
    "compute_encoding_fn = partial(compute_encoding, model=encoder, task_type=args.task_type, modal=args.modal)\n",
    "\n",
    "for split, dataset_split in dataset.items():\n",
    "    if split == 'val':\n",
    "        continue\n",
    "    # new_fingerprint_for_encoder = Hasher.hash((args.pretrained_model_path, args.modal, args.dataset_name, split, args.scale))\n",
    "    feature_dataset = dataset_split.map(compute_encoding_fn, batched=True, batch_size=64)\n",
    "    feature_dataset.remove_columns(['spatial_resolution'])\n",
    "    if 'optical' in feature_dataset.column_names: feature_dataset.remove_columns(['optical', 'optical_channel_wv'])\n",
    "    if 'radar' in feature_dataset.column_names: feature_dataset.remove_columns(['radar', 'radar_channel_wv'])\n",
    "    feature_dataset.set_format(type='torch')\n",
    "    dataset[split] = feature_dataset\n",
    "    \n",
    "del encoder\n",
    "del model.encoder\n",
    "model = task_head"
   ]
  },
  {
   "cell_type": "code",
   "execution_count": 8,
   "metadata": {},
   "outputs": [],
   "source": [
    "method_feature = dict(LESSVIT = dataset)"
   ]
  },
  {
   "cell_type": "code",
   "execution_count": 9,
   "metadata": {},
   "outputs": [
    {
     "data": {
      "text/plain": [
       "torch.Size([5400, 14, 768])"
      ]
     },
     "execution_count": 9,
     "metadata": {},
     "output_type": "execute_result"
    }
   ],
   "source": [
    "dataset['test']['features'].shape"
   ]
  },
  {
   "cell_type": "code",
   "execution_count": 10,
   "metadata": {},
   "outputs": [
    {
     "name": "stdout",
     "output_type": "stream",
     "text": [
      "LESSVIT accuracy: 89.43%\n"
     ]
    }
   ],
   "source": [
    "for key in method_feature:\n",
    "    knn = KNeighborsClassifier(n_neighbors=20, metric='cosine')\n",
    "    # knn = KNeighborsClassifier(n_neighbors=20) \n",
    "    knn.fit(method_feature[key]['train']['features'][:, 0, :], method_feature[key]['train']['labels'])\n",
    "    y_pred = knn.predict(method_feature[key]['test']['features'][:, 0, :])\n",
    "    acc = accuracy_score(method_feature[key]['test']['labels'], y_pred)\n",
    "    print(f'{key} accuracy: {acc*100:.2f}%')\n",
    "    method_feature[key]['knn_acc'] = acc"
   ]
  },
  {
   "cell_type": "code",
   "execution_count": 11,
   "metadata": {},
   "outputs": [],
   "source": [
    "# # extact the model ame from the directory name, it should between the dataset name and the 'finetune'\n",
    "# # model_name = target_dirs[i].split(dataset+'_')[1].split('_finetune')[0]\n",
    "# method_feature = dict()\n",
    "# for name, fname in vis_content.items():\n",
    "#     model_name = name\n",
    "#     target_dir = fname\n",
    "#     cached_exp = os.path.join(cache_path, target_dir)\n",
    "#     label = dict(train=[], test=[])\n",
    "#     feature = dict(train=[], test=[])\n",
    "#     for pkls in os.listdir(cached_exp):\n",
    "#         assert pkls.endswith('.pkl')\n",
    "#         file_path = os.path.join(cached_exp, pkls)\n",
    "#         with open(file_path, 'rb') as f:\n",
    "#             data = pickle.load(f)\n",
    "#         if 'train' in pkls:\n",
    "#             label['train'].append(data['label'].numpy())\n",
    "#             feature['train'].append(data['img_feature'].numpy())\n",
    "#         else:\n",
    "#             label['test'].append(data['label'].numpy())\n",
    "#             feature['test'].append(data['img_feature'].numpy())\n",
    "\n",
    "#     # label = np.concatenate(label)\n",
    "#     # feature = np.concatenate(feature)\n",
    "#     for key in label:\n",
    "#         label[key] = np.concatenate(label[key])\n",
    "#         feature[key] = np.concatenate(feature[key])\n",
    "#         print(feature[key].shape)\n",
    "#     n_ys = np.unique(label['train']).shape[0]\n",
    "#     scaler = StandardScaler()\n",
    "#     feature['train'] = scaler.fit_transform(feature['train'])\n",
    "#     feature['test'] = scaler.transform(feature['test'])\n",
    "    \n",
    "#     method_feature[model_name] = dict(label=label, feature=feature, n_ys=n_ys)"
   ]
  },
  {
   "cell_type": "code",
   "execution_count": 12,
   "metadata": {},
   "outputs": [
    {
     "data": {
      "text/plain": [
       "dict_keys(['LESSVIT'])"
      ]
     },
     "execution_count": 12,
     "metadata": {},
     "output_type": "execute_result"
    }
   ],
   "source": [
    "method_feature.keys()\n",
    "# method_feature['MM-MAE']"
   ]
  },
  {
   "cell_type": "code",
   "execution_count": 13,
   "metadata": {},
   "outputs": [],
   "source": [
    "# scaler = StandardScaler()\n",
    "# feature['train'] = scaler.fit_transform(feature['train'])\n",
    "# feature['test'] = scaler.transform(feature['test'])"
   ]
  },
  {
   "cell_type": "code",
   "execution_count": 18,
   "metadata": {},
   "outputs": [],
   "source": [
    "# tsne = TSNE(n_components=2, random_state=42, perplexity=30)  # perplexity is a key parameter\n",
    "# X_embedded = tsne.fit_transform(feature['test'])"
   ]
  },
  {
   "cell_type": "code",
   "execution_count": 19,
   "metadata": {},
   "outputs": [],
   "source": [
    "# plt.figure(figsize=(8, 6))\n",
    "# for i in range(n_ys):\n",
    "#     plt.scatter(X_embedded[label == i, 0], X_embedded[label == i, 1], label=f'Class {i}', alpha=0.5)\n",
    "# plt.legend()\n",
    "# plt.show()"
   ]
  },
  {
   "cell_type": "code",
   "execution_count": 15,
   "metadata": {},
   "outputs": [],
   "source": [
    "# for key in method_feature:\n",
    "#     knn = KNeighborsClassifier(n_neighbors=20, metric='cosine')\n",
    "#     # knn = KNeighborsClassifier(n_neighbors=20) \n",
    "#     knn.fit(method_feature[key]['feature']['train'], method_feature[key]['label']['train'])\n",
    "#     y_pred = knn.predict(method_feature[key]['feature']['test'])\n",
    "#     acc = accuracy_score(method_feature[key]['label']['test'], y_pred)\n",
    "#     print(f'{key} accuracy: {acc*100:.2f}%')\n",
    "#     method_feature[key]['knn_acc'] = acc\n",
    "# knn.fit(feature['train'], label['train'])"
   ]
  },
  {
   "cell_type": "code",
   "execution_count": 12,
   "metadata": {},
   "outputs": [
    {
     "name": "stderr",
     "output_type": "stream",
     "text": [
      "  0%|          | 0/1 [00:00<?, ?it/s]"
     ]
    },
    {
     "name": "stderr",
     "output_type": "stream",
     "text": [
      "OMP: Info #276: omp_set_nested routine deprecated, please use omp_set_max_active_levels instead.\n",
      "100%|██████████| 1/1 [00:25<00:00, 25.13s/it]"
     ]
    },
    {
     "name": "stdout",
     "output_type": "stream",
     "text": [
      "LESSVIT UMAP time: 25.131924152374268\n"
     ]
    },
    {
     "name": "stderr",
     "output_type": "stream",
     "text": [
      "\n"
     ]
    }
   ],
   "source": [
    "for key in tqdm(method_feature):\n",
    "    reducer = umap.UMAP(n_neighbors=20, min_dist=0.0)  # n_neighbors and min_dist are key parameters\n",
    "    start_time = time.time()\n",
    "    X_embedded = reducer.fit_transform(method_feature[key]['test']['features'][:, 0])\n",
    "    end_time = time.time()\n",
    "    print(f'{key} UMAP time: {end_time - start_time}')\n",
    "    method_feature[key]['umap'] = X_embedded\n",
    "# reducer = umap.UMAP(n_neighbors=20, min_dist=0.0)  # n_neighbors and min_dist are key parameters\n",
    "# X_embedded = reducer.fit_transform(feature['test'])"
   ]
  },
  {
   "cell_type": "code",
   "execution_count": 13,
   "metadata": {},
   "outputs": [
    {
     "data": {
      "text/plain": [
       "<matplotlib.legend.Legend at 0x7f299d99c310>"
      ]
     },
     "execution_count": 13,
     "metadata": {},
     "output_type": "execute_result"
    },
    {
     "data": {
      "image/png": "[encoded data removed]",
      "text/plain": [
       "<Figure size 400x400 with 1 Axes>"
      ]
     },
     "metadata": {},
     "output_type": "display_data"
    }
   ],
   "source": [
    "# for every model, plot the UMAP embedding\n",
    "vis_order = ['LESSVIT']\n",
    "n_models = len(method_feature)\n",
    "fig, ax = plt.subplots(1, n_models, figsize=(4 * n_models, 4))\n",
    "for i, key in enumerate(vis_order):\n",
    "    X_embedded = method_feature[key]['umap']\n",
    "    for j in range(10):\n",
    "        # ax[i].scatter(X_embedded[method_feature[key]['test']['labels'] == j, 0], X_embedded[method_feature[key]['test']['labels'] == j, 1], label=f'Class {j}', marker='o', s=0.3,)\n",
    "        ax.scatter(X_embedded[method_feature[key]['test']['labels'] == j, 0], X_embedded[method_feature[key]['test']['labels'] == j, 1], label=f'Class {j}', marker='o', s=0.3,)\n",
    "    # ax[i].set_title(f\"{key}: {method_feature[key]['knn_acc']*100:.2f}%\", fontsize=18)\n",
    "    ax.set_title(f\"{key}: {method_feature[key]['knn_acc']*100:.2f}%\", fontsize=18)\n",
    "    # ax[i].legend()\n",
    "    # ax[i].axis('off')\n",
    "    # ax[i].set_xticks([])\n",
    "    # ax[i].set_yticks([])\n",
    "    # ax[i].set_aspect('')\n",
    "plt.subplots_adjust(left=0, right=1, top=1, bottom=0, wspace=0, hspace=0)\n",
    "# show legend at the bottom center of the complete image\n",
    "# fig.legend(loc='lower center', ncol=method_feature[key]['n_ys']//2, fontsize='small', bbox_to_anchor=(0.5, -0.12))\n",
    "# only plot one set of legend without the showing the actuall bbox\n",
    "fig.legend(EUROSAT_CLS, loc='lower center', ncol=5, fontsize='x-large', bbox_to_anchor=(0.5, -0.19), markerscale=5, scatterpoints=1)\n",
    "# plt.savefig(f'umap_{dataset}_{modal}.png', dpi=300, bbox_inches='tight')"
   ]
  },
  {
   "cell_type": "code",
   "execution_count": 18,
   "metadata": {},
   "outputs": [],
   "source": [
    "# # Plot\n",
    "# plt.figure(figsize=(8, 6))\n",
    "# for i in range(n_ys):\n",
    "#     plt.scatter(X_embedded[label['test'] == i, 0], X_embedded[label['test'] == i, 1], label=f'Class {i}', marker='.', s=1)\n",
    "# # set the title\n",
    "# plt.title(f'UMAP visualization of {dataset} dataset using {model_name} model with {modal} data')\n",
    "# # put the legend at the botton of the figure\n",
    "# plt.legend(loc='upper center', bbox_to_anchor=(0.5, -0.05), shadow=True, ncol=5)\n",
    "# plt.show()"
   ]
  },
  {
   "cell_type": "code",
   "execution_count": 18,
   "metadata": {},
   "outputs": [],
   "source": [
    "# y_pred = knn.predict(feature['test'])"
   ]
  },
  {
   "cell_type": "code",
   "execution_count": 21,
   "metadata": {},
   "outputs": [],
   "source": [
    "# accuracy = accuracy_score(label['test'], y_pred)\n",
    "# print(f\"Accuracy: {accuracy*100:.2f}%\")"
   ]
  },
  {
   "cell_type": "code",
   "execution_count": null,
   "metadata": {},
   "outputs": [],
   "source": []
  },
  {
   "cell_type": "code",
   "execution_count": 22,
   "metadata": {},
   "outputs": [
    {
     "ename": "NameError",
     "evalue": "name 'feature' is not defined",
     "output_type": "error",
     "traceback": [
      "\u001b[0;31m---------------------------------------------------------------------------\u001b[0m",
      "\u001b[0;31mNameError\u001b[0m                                 Traceback (most recent call last)",
      "Cell \u001b[0;32mIn[22], line 2\u001b[0m\n\u001b[1;32m      1\u001b[0m scaler \u001b[38;5;241m=\u001b[39m StandardScaler()\n\u001b[0;32m----> 2\u001b[0m X_scaled \u001b[38;5;241m=\u001b[39m scaler\u001b[38;5;241m.\u001b[39mfit_transform(\u001b[43mfeature\u001b[49m[\u001b[38;5;124m'\u001b[39m\u001b[38;5;124mtest\u001b[39m\u001b[38;5;124m'\u001b[39m])\n",
      "\u001b[0;31mNameError\u001b[0m: name 'feature' is not defined"
     ]
    }
   ],
   "source": [
    "scaler = StandardScaler()\n",
    "X_scaled = scaler.fit_transform(feature['test'])"
   ]
  },
  {
   "cell_type": "code",
   "execution_count": 43,
   "metadata": {},
   "outputs": [],
   "source": [
    "kmeans = KMeans(n_clusters=n_ys, random_state=42, n_init=10)"
   ]
  },
  {
   "cell_type": "code",
   "execution_count": 44,
   "metadata": {},
   "outputs": [],
   "source": [
    "kmeans.fit(X_scaled)\n",
    "\n",
    "# Make predictions\n",
    "y_kmeans = kmeans.predict(X_scaled)"
   ]
  },
  {
   "cell_type": "code",
   "execution_count": 45,
   "metadata": {},
   "outputs": [],
   "source": [
    "conf_matrix = confusion_matrix(label['test'], y_kmeans)\n",
    "row_ind, col_ind = linear_sum_assignment(-conf_matrix)"
   ]
  },
  {
   "cell_type": "code",
   "execution_count": 46,
   "metadata": {},
   "outputs": [
    {
     "data": {
      "text/plain": [
       "(array([[209,   0,  29,   0,   0,   0, 367,   2,   6,   0],\n",
       "        [266,   0,   0,   1,   0,   0,   0, 336,   2,   0],\n",
       "        [ 94,   0,  55,  17,  17,   2, 198, 186,  41,  18],\n",
       "        [ 88,   0, 193,  28,   1,   0,  63,  74,  26,  26],\n",
       "        [  1,   0,  60,   3,   0,   0,  13,   0,  50, 380],\n",
       "        [352,   0,   7,   3,   0,   0,   2,  45,   0,   0],\n",
       "        [151,   0,  32,   1,   0,   0, 285,   3,   9,   0],\n",
       "        [ 17,   0, 354,   1,   0,   0,  67,   9,  68,  67],\n",
       "        [  7,   2,   8, 285, 198,   1,   2,   3,   4,   1],\n",
       "        [  0, 343,   2,   1,   3, 213,   0,   1,   1,   0]]),\n",
       " array([0, 1, 2, 3, 4, 5, 6, 7, 8, 9]),\n",
       " array([6, 7, 4, 8, 9, 0, 5, 2, 3, 1]))"
      ]
     },
     "execution_count": 46,
     "metadata": {},
     "output_type": "execute_result"
    }
   ],
   "source": [
    "conf_matrix, row_ind, col_ind"
   ]
  },
  {
   "cell_type": "code",
   "execution_count": 47,
   "metadata": {},
   "outputs": [
    {
     "name": "stdout",
     "output_type": "stream",
     "text": [
      "Accuracy: 45.56%\n"
     ]
    }
   ],
   "source": [
    "mapped_cluster_labels = np.zeros_like(y_kmeans)\n",
    "for i, j in enumerate(col_ind):\n",
    "    mapped_cluster_labels[y_kmeans == j] = i\n",
    "\n",
    "# Calculate accuracy\n",
    "accuracy = accuracy_score(label['test'], mapped_cluster_labels)\n",
    "print(f\"Accuracy: {accuracy * 100:.2f}%\")"
   ]
  },
  {
   "cell_type": "code",
   "execution_count": null,
   "metadata": {},
   "outputs": [],
   "source": []
  },
  {
   "cell_type": "code",
   "execution_count": null,
   "metadata": {},
   "outputs": [],
   "source": []
  }
 ],
 "metadata": {
  "kernelspec": {
   "display_name": "sat",
   "language": "python",
   "name": "python3"
  },
  "language_info": {
   "codemirror_mode": {
    "name": "ipython",
    "version": 3
   },
   "file_extension": ".py",
   "mimetype": "text/x-python",
   "name": "python",
   "nbconvert_exporter": "python",
   "pygments_lexer": "ipython3",
   "version": "3.10.0"
  }
 },
 "nbformat": 4,
 "nbformat_minor": 2
}
