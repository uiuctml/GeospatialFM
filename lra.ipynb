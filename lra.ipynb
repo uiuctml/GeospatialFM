{
 "cells": [
  {
   "cell_type": "code",
   "execution_count": 2,
   "metadata": {},
   "outputs": [
    {
     "name": "stderr",
     "output_type": "stream",
     "text": [
      "/home/haozhesi/anaconda3/envs/sat/lib/python3.10/site-packages/tqdm/auto.py:21: TqdmWarning: IProgress not found. Please update jupyter and ipywidgets. See https://ipywidgets.readthedocs.io/en/stable/user_install.html\n",
      "  from .autonotebook import tqdm as notebook_tqdm\n"
     ]
    }
   ],
   "source": [
    "import torch\n",
    "from GeospatialFM.models.low_rank_attention import LowRankBlock\n",
    "from timm.models.vision_transformer import Block\n",
    "import torch.nn.functional as F\n",
    "\n",
    "%load_ext autoreload\n",
    "%autoreload 2"
   ]
  },
  {
   "cell_type": "code",
   "execution_count": 11,
   "metadata": {},
   "outputs": [],
   "source": [
    "lrb = LowRankBlock(768, 12, qkv_bias=True, seperate_v=True).to('cuda:3')\n",
    "block = Block(768, 12, qkv_bias=True).to('cuda:3')"
   ]
  },
  {
   "cell_type": "code",
   "execution_count": 12,
   "metadata": {},
   "outputs": [
    {
     "data": {
      "text/plain": [
       "6"
      ]
     },
     "execution_count": 12,
     "metadata": {},
     "output_type": "execute_result"
    }
   ],
   "source": [
    "lrb.attn.nqkv"
   ]
  },
  {
   "cell_type": "code",
   "execution_count": 13,
   "metadata": {},
   "outputs": [],
   "source": [
    "x = torch.randn(64, 196, 13, 768).to('cuda:3')\n",
    "x2 = torch.randn(64, 196*13, 768).to('cuda:3')"
   ]
  },
  {
   "cell_type": "code",
   "execution_count": 14,
   "metadata": {},
   "outputs": [
    {
     "data": {
      "text/plain": [
       "torch.Size([64, 196, 13, 768])"
      ]
     },
     "execution_count": 14,
     "metadata": {},
     "output_type": "execute_result"
    }
   ],
   "source": [
    "with torch.no_grad():\n",
    "    o = lrb(x)\n",
    "o.shape"
   ]
  },
  {
   "cell_type": "code",
   "execution_count": 14,
   "metadata": {},
   "outputs": [
    {
     "name": "stdout",
     "output_type": "stream",
     "text": [
      "LowRankBlock: 8859648\n",
      "Block: 7087872\n"
     ]
    }
   ],
   "source": [
    "# print the number of parameters\n",
    "print('LowRankBlock:', sum(p.numel() for p in lrb.parameters()))\n",
    "print('Block:', sum(p.numel() for p in block.parameters()))"
   ]
  },
  {
   "cell_type": "code",
   "execution_count": 6,
   "metadata": {},
   "outputs": [
    {
     "data": {
      "text/plain": [
       "torch.Size([64, 196, 13, 768])"
      ]
     },
     "execution_count": 6,
     "metadata": {},
     "output_type": "execute_result"
    }
   ],
   "source": [
    "o.shape"
   ]
  },
  {
   "cell_type": "code",
   "execution_count": 25,
   "metadata": {},
   "outputs": [
    {
     "name": "stdout",
     "output_type": "stream",
     "text": [
      "norm1.weight \t 768 \t 768\n",
      "norm1.bias \t 768 \t 768\n",
      "attn.qkv.weight \t 3538944 \t 1769472\n",
      "attn.qkv.bias \t 4608 \t 2304\n",
      "attn.proj.weight \t 589824 \t 589824\n",
      "attn.proj.bias \t 768 \t 768\n",
      "norm2.weight \t 768 \t 768\n",
      "norm2.bias \t 768 \t 768\n",
      "mlp.fc1.weight \t 2359296 \t 2359296\n",
      "mlp.fc1.bias \t 3072 \t 3072\n",
      "mlp.fc2.weight \t 2359296 \t 2359296\n",
      "mlp.fc2.bias \t 768 \t 768\n"
     ]
    }
   ],
   "source": [
    "# for every sub_module, print the number of parameters\n",
    "for (name, param_lrb), (_, param_b) in zip(lrb.named_parameters(), block.named_parameters()):\n",
    "    print(name, '\\t', param_lrb.numel(), '\\t', param_b.numel())"
   ]
  },
  {
   "cell_type": "code",
   "execution_count": 10,
   "metadata": {},
   "outputs": [
    {
     "data": {
      "text/plain": [
       "torch.Size([64, 2548, 768])"
      ]
     },
     "execution_count": 10,
     "metadata": {},
     "output_type": "execute_result"
    }
   ],
   "source": [
    "with torch.no_grad():\n",
    "    o = block(x2)\n",
    "o.shape"
   ]
  },
  {
   "cell_type": "code",
   "execution_count": 3,
   "metadata": {},
   "outputs": [],
   "source": [
    "qkv = torch.nn.Linear(768, 768*6, bias=True).to('cuda:3')\n",
    "x = torch.randn(64, 196, 13, 768).to('cuda:3')\n",
    "B, N, C, D = x.shape"
   ]
  },
  {
   "cell_type": "code",
   "execution_count": 4,
   "metadata": {},
   "outputs": [],
   "source": [
    "o = qkv(x).reshape(B, N, C, 6, 12, 64).permute(3, 0, 4, 1, 2, 5)"
   ]
  },
  {
   "cell_type": "code",
   "execution_count": 5,
   "metadata": {},
   "outputs": [
    {
     "data": {
      "text/plain": [
       "torch.Size([6, 64, 12, 196, 13, 64])"
      ]
     },
     "execution_count": 5,
     "metadata": {},
     "output_type": "execute_result"
    }
   ],
   "source": [
    "o.shape"
   ]
  },
  {
   "cell_type": "code",
   "execution_count": 20,
   "metadata": {},
   "outputs": [],
   "source": [
    "qc, kc, qs, ks, vc, vs = o.unbind(0)\n",
    "# qc, kc, qs, ks = self.q_norm(qc), self.k_norm(kc), self.q_norm(qs), self.k_norm(ks)\n",
    "qs, ks, vs = qs.transpose(-2, -3), ks.transpose(-2, -3), vs.transpose(-2, -3)"
   ]
  },
  {
   "cell_type": "code",
   "execution_count": 21,
   "metadata": {},
   "outputs": [
    {
     "data": {
      "text/plain": [
       "(torch.Size([64, 12, 196, 13, 64]),\n",
       " torch.Size([64, 12, 196, 13, 64]),\n",
       " torch.Size([64, 12, 13, 196, 64]),\n",
       " torch.Size([64, 12, 13, 196, 64]),\n",
       " torch.Size([64, 12, 196, 13, 64]),\n",
       " torch.Size([64, 12, 13, 196, 64]))"
      ]
     },
     "execution_count": 21,
     "metadata": {},
     "output_type": "execute_result"
    }
   ],
   "source": [
    "qc.shape, kc.shape, qs.shape, ks.shape, vc.shape, vs.shape"
   ]
  },
  {
   "cell_type": "code",
   "execution_count": 22,
   "metadata": {},
   "outputs": [],
   "source": [
    "xs = F.scaled_dot_product_attention(\n",
    "                qs, ks, vs,\n",
    "                dropout_p=0,\n",
    "            ).transpose(-2, -3)"
   ]
  },
  {
   "cell_type": "code",
   "execution_count": 23,
   "metadata": {},
   "outputs": [
    {
     "data": {
      "text/plain": [
       "torch.Size([64, 12, 196, 13, 64])"
      ]
     },
     "execution_count": 23,
     "metadata": {},
     "output_type": "execute_result"
    }
   ],
   "source": [
    "xs.shape\n"
   ]
  },
  {
   "cell_type": "code",
   "execution_count": 24,
   "metadata": {},
   "outputs": [],
   "source": [
    "xc = F.scaled_dot_product_attention(\n",
    "                qc, kc, vc,\n",
    "                dropout_p=0,\n",
    "            )"
   ]
  },
  {
   "cell_type": "code",
   "execution_count": 25,
   "metadata": {},
   "outputs": [
    {
     "data": {
      "text/plain": [
       "torch.Size([64, 12, 196, 13, 64])"
      ]
     },
     "execution_count": 25,
     "metadata": {},
     "output_type": "execute_result"
    }
   ],
   "source": [
    "xc.shape"
   ]
  },
  {
   "cell_type": "code",
   "execution_count": 26,
   "metadata": {},
   "outputs": [
    {
     "data": {
      "text/plain": [
       "torch.Size([64, 12, 196, 13, 64])"
      ]
     },
     "execution_count": 26,
     "metadata": {},
     "output_type": "execute_result"
    }
   ],
   "source": [
    "x = xs * xc\n",
    "x.shape"
   ]
  },
  {
   "cell_type": "code",
   "execution_count": null,
   "metadata": {},
   "outputs": [],
   "source": []
  }
 ],
 "metadata": {
  "kernelspec": {
   "display_name": "sat",
   "language": "python",
   "name": "python3"
  },
  "language_info": {
   "codemirror_mode": {
    "name": "ipython",
    "version": 3
   },
   "file_extension": ".py",
   "mimetype": "text/x-python",
   "name": "python",
   "nbconvert_exporter": "python",
   "pygments_lexer": "ipython3",
   "version": "3.10.0"
  }
 },
 "nbformat": 4,
 "nbformat_minor": 2
}
