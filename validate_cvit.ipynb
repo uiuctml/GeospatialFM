{
 "cells": [
  {
   "cell_type": "markdown",
   "metadata": {},
   "source": [
    "- eval:\n",
    "    - test-time and train-time feed-forward\n",
    "    - channel mask and recon\n",
    "    - patch_embedding"
   ]
  },
  {
   "cell_type": "code",
   "execution_count": 1,
   "metadata": {},
   "outputs": [
    {
     "name": "stderr",
     "output_type": "stream",
     "text": [
      "/home/haozhesi/anaconda3/envs/sat/lib/python3.10/site-packages/tqdm/auto.py:21: TqdmWarning: IProgress not found. Please update jupyter and ipywidgets. See https://ipywidgets.readthedocs.io/en/stable/user_install.html\n",
      "  from .autonotebook import tqdm as notebook_tqdm\n"
     ]
    }
   ],
   "source": [
    "from GeospatialFM.models.channel_vit import ChannelViTEncoder\n",
    "from GeospatialFM.models.vision_transformer import ViTEncoder, ViTDecoder\n",
    "import torch\n",
    "from GeospatialFM.models.mae import CrossModalMAEViT\n",
    "from GeospatialFM.loss.mae_loss import SpectralInterpolationLoss\n",
    "\n",
    "%load_ext autoreload\n",
    "%autoreload 2"
   ]
  },
  {
   "cell_type": "code",
   "execution_count": 2,
   "metadata": {},
   "outputs": [],
   "source": [
    "optical_sample = torch.randn(2, 13, 224, 224)\n",
    "radar_sample = torch.randn(2, 2, 224, 224)"
   ]
  },
  {
   "cell_type": "code",
   "execution_count": 23,
   "metadata": {},
   "outputs": [],
   "source": [
    "optical_encoder = ChannelViTEncoder(in_chans=13)\n",
    "decoder = ViTDecoder(out_chans=15)\n",
    "radar_encoder = ViTEncoder(in_chans=2)"
   ]
  },
  {
   "cell_type": "code",
   "execution_count": 19,
   "metadata": {},
   "outputs": [
    {
     "data": {
      "text/plain": [
       "196"
      ]
     },
     "execution_count": 19,
     "metadata": {},
     "output_type": "execute_result"
    }
   ],
   "source": [
    "optical_encoder.num_patches"
   ]
  },
  {
   "cell_type": "code",
   "execution_count": 28,
   "metadata": {},
   "outputs": [],
   "source": [
    "mae = CrossModalMAEViT(optical_encoder, radar_encoder, decoder, decoder).train()\n"
   ]
  },
  {
   "cell_type": "code",
   "execution_count": 30,
   "metadata": {},
   "outputs": [
    {
     "name": "stdout",
     "output_type": "stream",
     "text": [
      "tensor([[[[ 1.5124e+00, -4.4097e-01, -3.9417e-01,  ...,  1.2068e-01,\n",
      "            7.9087e-01, -7.2115e-01],\n",
      "          [-5.2588e-02, -3.8726e-01,  1.8179e-01,  ...,  3.6736e-01,\n",
      "            9.6093e-01, -1.0706e-01],\n",
      "          [ 4.0375e-01,  3.8697e-01, -1.4966e+00,  ...,  1.4193e-01,\n",
      "           -9.0827e-01,  5.1122e-01],\n",
      "          ...,\n",
      "          [-1.3595e+00, -9.9193e-01, -1.1967e+00,  ...,  7.8559e-01,\n",
      "            3.7458e-01,  4.3930e-01],\n",
      "          [ 2.4402e-01,  2.1408e-01, -9.8310e-01,  ...,  5.6128e-01,\n",
      "            6.3088e-01,  8.9061e-01],\n",
      "          [ 2.0977e-01, -8.5673e-01, -9.0036e-01,  ...,  1.3263e-01,\n",
      "           -1.1322e+00,  1.3727e+00]]],\n",
      "\n",
      "\n",
      "        [[[ 1.2815e+00, -4.1533e-01, -2.7620e-01,  ...,  2.7691e+00,\n",
      "            1.2333e+00, -1.4539e-01],\n",
      "          [-1.0320e+00, -1.4013e+00,  1.3554e+00,  ...,  8.9287e-01,\n",
      "           -8.3992e-02, -6.8253e-01],\n",
      "          [ 6.3759e-01, -9.6324e-01,  8.3419e-01,  ...,  2.0086e+00,\n",
      "            5.8619e-01,  4.2173e-01],\n",
      "          ...,\n",
      "          [ 1.0543e+00,  3.9004e-01, -4.2310e-01,  ...,  3.3242e-01,\n",
      "            1.5935e+00,  2.0340e+00],\n",
      "          [ 1.2805e-01,  1.5266e-01, -1.6973e+00,  ...,  1.4518e-05,\n",
      "            2.5860e-01, -1.9914e+00],\n",
      "          [-1.0272e+00, -8.2100e-01,  9.4941e-01,  ..., -3.6732e-01,\n",
      "            9.0260e-01,  3.2030e+00]]]]) torch.Size([2, 1, 224, 224])\n"
     ]
    }
   ],
   "source": [
    "out = mae(optical_sample, radar_sample, 0.75, 11/12)"
   ]
  },
  {
   "cell_type": "code",
   "execution_count": 40,
   "metadata": {},
   "outputs": [
    {
     "data": {
      "text/plain": [
       "tensor([[[-1.2231e+00,  2.6847e-01,  1.5599e+00,  ..., -4.2973e-01,\n",
       "          -4.7082e-02, -5.9798e-01],\n",
       "         [ 2.2316e-01, -1.9303e+00, -1.0594e+00,  ..., -2.9924e-02,\n",
       "          -8.9992e-02, -7.4097e-01],\n",
       "         [-3.6767e-01,  9.3067e-01,  8.7845e-01,  ...,  2.3672e-01,\n",
       "          -5.8664e-01, -1.8526e-02],\n",
       "         ...,\n",
       "         [ 1.0902e-01,  5.7744e-01, -1.5360e+00,  ...,  1.7027e+00,\n",
       "          -6.1190e-01, -1.3782e+00],\n",
       "         [ 1.7373e+00,  1.2053e-01, -1.4495e-01,  ..., -1.9491e+00,\n",
       "           3.8866e-01,  9.9199e-01],\n",
       "         [-1.1468e+00,  1.2461e+00,  1.0754e+00,  ...,  1.4846e+00,\n",
       "          -3.6569e-01, -7.6072e-01]],\n",
       "\n",
       "        [[ 1.2815e+00, -4.1533e-01, -2.7620e-01,  ...,  2.7691e+00,\n",
       "           1.2333e+00, -1.4539e-01],\n",
       "         [-1.0320e+00, -1.4013e+00,  1.3554e+00,  ...,  8.9287e-01,\n",
       "          -8.3992e-02, -6.8253e-01],\n",
       "         [ 6.3759e-01, -9.6324e-01,  8.3419e-01,  ...,  2.0086e+00,\n",
       "           5.8619e-01,  4.2173e-01],\n",
       "         ...,\n",
       "         [ 1.0543e+00,  3.9004e-01, -4.2310e-01,  ...,  3.3242e-01,\n",
       "           1.5935e+00,  2.0340e+00],\n",
       "         [ 1.2805e-01,  1.5266e-01, -1.6973e+00,  ...,  1.4518e-05,\n",
       "           2.5860e-01, -1.9914e+00],\n",
       "         [-1.0272e+00, -8.2100e-01,  9.4941e-01,  ..., -3.6732e-01,\n",
       "           9.0260e-01,  3.2030e+00]]])"
      ]
     },
     "execution_count": 40,
     "metadata": {},
     "output_type": "execute_result"
    }
   ],
   "source": [
    "optical_sample[:, 1]"
   ]
  },
  {
   "cell_type": "code",
   "execution_count": 39,
   "metadata": {},
   "outputs": [
    {
     "data": {
      "text/plain": [
       "tensor([1., 0., 1., 1., 1., 1., 1., 1., 1., 1., 1., 1., 1.])"
      ]
     },
     "execution_count": 39,
     "metadata": {},
     "output_type": "execute_result"
    }
   ],
   "source": [
    "out['optical_channel_mask'][1].reshape(256, 13)[0]"
   ]
  },
  {
   "cell_type": "code",
   "execution_count": 171,
   "metadata": {},
   "outputs": [
    {
     "data": {
      "text/plain": [
       "{'optical_channel_mse': tensor(0.8883, grad_fn=<MulBackward0>),\n",
       " 'radar_channel_mse': tensor(0.8874, grad_fn=<MulBackward0>)}"
      ]
     },
     "execution_count": 171,
     "metadata": {},
     "output_type": "execute_result"
    }
   ],
   "source": [
    "loss = SpectralInterpolationLoss()\n",
    "loss(**out, output_dict=True)"
   ]
  },
  {
   "cell_type": "code",
   "execution_count": 160,
   "metadata": {},
   "outputs": [
    {
     "name": "stdout",
     "output_type": "stream",
     "text": [
      "optical_mask torch.Size([2, 196])\n",
      "radar_mask torch.Size([2, 196])\n",
      "optical_recon torch.Size([2, 196, 3840])\n",
      "radar_recon torch.Size([2, 196, 3840])\n",
      "optical_target torch.Size([2, 196, 3328])\n",
      "radar_target torch.Size([2, 196, 512])\n",
      "optical_cls_token torch.Size([2, 768])\n",
      "radar_cls_token torch.Size([2, 768])\n",
      "logit_scale torch.Size([])\n",
      "optical_channel_mask torch.Size([2, 3328])\n"
     ]
    }
   ],
   "source": [
    "for key in out.keys():\n",
    "    print(key, out[key].shape)"
   ]
  },
  {
   "cell_type": "code",
   "execution_count": 86,
   "metadata": {},
   "outputs": [
    {
     "data": {
      "text/plain": [
       "256.0"
      ]
     },
     "execution_count": 86,
     "metadata": {},
     "output_type": "execute_result"
    }
   ],
   "source": [
    "3840 / 15"
   ]
  },
  {
   "cell_type": "code",
   "execution_count": 112,
   "metadata": {},
   "outputs": [],
   "source": [
    "optical_target = out['optical_target']\n",
    "optical_recon = out['optical_recon']\n",
    "radar_recon = out['radar_recon']\n",
    "B, L, D = optical_target.shape"
   ]
  },
  {
   "cell_type": "code",
   "execution_count": 165,
   "metadata": {},
   "outputs": [],
   "source": [
    "def _forward_channel_mse_one_modal(recon, target, mask):\n",
    "    B, L, D = target.shape\n",
    "    recon = recon[:, :, :D]\n",
    "    loss = (recon - target).abs()\n",
    "    loss = loss.mean(dim=1)\n",
    "    if mask.sum() == 0:\n",
    "        return loss.mean() # if no mask, mean loss on all channels\n",
    "    loss = (loss * mask).sum() / mask.sum()  # mean loss on removed patches\n",
    "    return loss"
   ]
  },
  {
   "cell_type": "code",
   "execution_count": 162,
   "metadata": {},
   "outputs": [
    {
     "data": {
      "text/plain": [
       "(torch.Size([2, 196, 3840]), torch.Size([2, 196, 3328]))"
      ]
     },
     "execution_count": 162,
     "metadata": {},
     "output_type": "execute_result"
    }
   ],
   "source": [
    "optical_recon.shape, optical_target.shape"
   ]
  },
  {
   "cell_type": "code",
   "execution_count": 163,
   "metadata": {},
   "outputs": [],
   "source": [
    "mask = out['optical_channel_mask']"
   ]
  },
  {
   "cell_type": "code",
   "execution_count": 166,
   "metadata": {},
   "outputs": [
    {
     "name": "stdout",
     "output_type": "stream",
     "text": [
      "torch.Size([2, 3328]) tensor(0.8925, grad_fn=<DivBackward0>)\n"
     ]
    }
   ],
   "source": [
    "_unimodal_channel_loss(optical_recon, optical_target, mask)"
   ]
  },
  {
   "cell_type": "code",
   "execution_count": null,
   "metadata": {},
   "outputs": [],
   "source": [
    "optical_loss = optical_recon[:, :, :D]\n",
    "radar_recon_o = radar_recon[:, :, :D]"
   ]
  },
  {
   "cell_type": "code",
   "execution_count": null,
   "metadata": {},
   "outputs": [],
   "source": [
    "expanded_mask = mask.unsqueeze(1).unsqueeze(1).expand(B, L, 256, -1).reshape(B, L, D)\n"
   ]
  },
  {
   "cell_type": "code",
   "execution_count": null,
   "metadata": {},
   "outputs": [
    {
     "data": {
      "text/plain": [
       "torch.Size([2, 196, 3328])"
      ]
     },
     "execution_count": 105,
     "metadata": {},
     "output_type": "execute_result"
    }
   ],
   "source": [
    "recon_channels = (expanded_mask * radar_recon_o)\n",
    "recon_channels.shape"
   ]
  },
  {
   "cell_type": "code",
   "execution_count": null,
   "metadata": {},
   "outputs": [],
   "source": []
  }
 ],
 "metadata": {
  "kernelspec": {
   "display_name": "sat",
   "language": "python",
   "name": "python3"
  },
  "language_info": {
   "codemirror_mode": {
    "name": "ipython",
    "version": 3
   },
   "file_extension": ".py",
   "mimetype": "text/x-python",
   "name": "python",
   "nbconvert_exporter": "python",
   "pygments_lexer": "ipython3",
   "version": "3.10.0"
  }
 },
 "nbformat": 4,
 "nbformat_minor": 2
}
