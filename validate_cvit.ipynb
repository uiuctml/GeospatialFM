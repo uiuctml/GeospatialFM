{
 "cells": [
  {
   "cell_type": "markdown",
   "metadata": {},
   "source": [
    "- eval:\n",
    "    - test-time and train-time feed-forward\n",
    "    - channel mask and recon\n",
    "    - patch_embedding"
   ]
  },
  {
   "cell_type": "code",
   "execution_count": 169,
   "metadata": {},
   "outputs": [
    {
     "name": "stdout",
     "output_type": "stream",
     "text": [
      "The autoreload extension is already loaded. To reload it, use:\n",
      "  %reload_ext autoreload\n"
     ]
    }
   ],
   "source": [
    "from GeospatialFM.models.channel_vit import ChannelViTEncoder\n",
    "from GeospatialFM.models.vision_transformer import ViTEncoder, ViTDecoder\n",
    "import torch\n",
    "from GeospatialFM.models.mae import CrossModalMAEViT\n",
    "from GeospatialFM.loss.mae_loss import SpectralInterpolationLoss\n",
    "\n",
    "%load_ext autoreload\n",
    "%autoreload 2"
   ]
  },
  {
   "cell_type": "code",
   "execution_count": 61,
   "metadata": {},
   "outputs": [],
   "source": [
    "optical_sample = torch.randn(2, 13, 224, 224)\n",
    "radar_sample = torch.randn(2, 2, 224, 224)"
   ]
  },
  {
   "cell_type": "code",
   "execution_count": 155,
   "metadata": {},
   "outputs": [],
   "source": [
    "optical_encoder = ChannelViTEncoder(in_chans=13)\n",
    "decoder = ViTDecoder(out_chans=15)\n",
    "radar_encoder = ViTEncoder(in_chans=2)"
   ]
  },
  {
   "cell_type": "code",
   "execution_count": 156,
   "metadata": {},
   "outputs": [
    {
     "data": {
      "text/plain": [
       "196"
      ]
     },
     "execution_count": 156,
     "metadata": {},
     "output_type": "execute_result"
    }
   ],
   "source": [
    "optical_encoder.num_patches"
   ]
  },
  {
   "cell_type": "code",
   "execution_count": 157,
   "metadata": {},
   "outputs": [],
   "source": [
    "mae = CrossModalMAEViT(optical_encoder, radar_encoder, decoder, decoder).train()\n"
   ]
  },
  {
   "cell_type": "code",
   "execution_count": 158,
   "metadata": {},
   "outputs": [],
   "source": [
    "out = mae(optical_sample, radar_sample)"
   ]
  },
  {
   "cell_type": "code",
   "execution_count": 171,
   "metadata": {},
   "outputs": [
    {
     "data": {
      "text/plain": [
       "{'optical_channel_mse': tensor(0.8883, grad_fn=<MulBackward0>),\n",
       " 'radar_channel_mse': tensor(0.8874, grad_fn=<MulBackward0>)}"
      ]
     },
     "execution_count": 171,
     "metadata": {},
     "output_type": "execute_result"
    }
   ],
   "source": [
    "loss = SpectralInterpolationLoss()\n",
    "loss(**out, output_dict=True)"
   ]
  },
  {
   "cell_type": "code",
   "execution_count": 160,
   "metadata": {},
   "outputs": [
    {
     "name": "stdout",
     "output_type": "stream",
     "text": [
      "optical_mask torch.Size([2, 196])\n",
      "radar_mask torch.Size([2, 196])\n",
      "optical_recon torch.Size([2, 196, 3840])\n",
      "radar_recon torch.Size([2, 196, 3840])\n",
      "optical_target torch.Size([2, 196, 3328])\n",
      "radar_target torch.Size([2, 196, 512])\n",
      "optical_cls_token torch.Size([2, 768])\n",
      "radar_cls_token torch.Size([2, 768])\n",
      "logit_scale torch.Size([])\n",
      "optical_channel_mask torch.Size([2, 3328])\n"
     ]
    }
   ],
   "source": [
    "for key in out.keys():\n",
    "    print(key, out[key].shape)"
   ]
  },
  {
   "cell_type": "code",
   "execution_count": 86,
   "metadata": {},
   "outputs": [
    {
     "data": {
      "text/plain": [
       "256.0"
      ]
     },
     "execution_count": 86,
     "metadata": {},
     "output_type": "execute_result"
    }
   ],
   "source": [
    "3840 / 15"
   ]
  },
  {
   "cell_type": "code",
   "execution_count": 112,
   "metadata": {},
   "outputs": [],
   "source": [
    "optical_target = out['optical_target']\n",
    "optical_recon = out['optical_recon']\n",
    "radar_recon = out['radar_recon']\n",
    "B, L, D = optical_target.shape"
   ]
  },
  {
   "cell_type": "code",
   "execution_count": 165,
   "metadata": {},
   "outputs": [],
   "source": [
    "def _forward_channel_mse_one_modal(recon, target, mask):\n",
    "    B, L, D = target.shape\n",
    "    recon = recon[:, :, :D]\n",
    "    loss = (recon - target).abs()\n",
    "    loss = loss.mean(dim=1)\n",
    "    if mask.sum() == 0:\n",
    "        return loss.mean() # if no mask, mean loss on all channels\n",
    "    loss = (loss * mask).sum() / mask.sum()  # mean loss on removed patches\n",
    "    return loss"
   ]
  },
  {
   "cell_type": "code",
   "execution_count": 162,
   "metadata": {},
   "outputs": [
    {
     "data": {
      "text/plain": [
       "(torch.Size([2, 196, 3840]), torch.Size([2, 196, 3328]))"
      ]
     },
     "execution_count": 162,
     "metadata": {},
     "output_type": "execute_result"
    }
   ],
   "source": [
    "optical_recon.shape, optical_target.shape"
   ]
  },
  {
   "cell_type": "code",
   "execution_count": 163,
   "metadata": {},
   "outputs": [],
   "source": [
    "mask = out['optical_channel_mask']"
   ]
  },
  {
   "cell_type": "code",
   "execution_count": 166,
   "metadata": {},
   "outputs": [
    {
     "name": "stdout",
     "output_type": "stream",
     "text": [
      "torch.Size([2, 3328]) tensor(0.8925, grad_fn=<DivBackward0>)\n"
     ]
    }
   ],
   "source": [
    "_unimodal_channel_loss(optical_recon, optical_target, mask)"
   ]
  },
  {
   "cell_type": "code",
   "execution_count": null,
   "metadata": {},
   "outputs": [],
   "source": [
    "optical_loss = optical_recon[:, :, :D]\n",
    "radar_recon_o = radar_recon[:, :, :D]"
   ]
  },
  {
   "cell_type": "code",
   "execution_count": null,
   "metadata": {},
   "outputs": [],
   "source": [
    "expanded_mask = mask.unsqueeze(1).unsqueeze(1).expand(B, L, 256, -1).reshape(B, L, D)\n"
   ]
  },
  {
   "cell_type": "code",
   "execution_count": null,
   "metadata": {},
   "outputs": [
    {
     "data": {
      "text/plain": [
       "torch.Size([2, 196, 3328])"
      ]
     },
     "execution_count": 105,
     "metadata": {},
     "output_type": "execute_result"
    }
   ],
   "source": [
    "recon_channels = (expanded_mask * radar_recon_o)\n",
    "recon_channels.shape"
   ]
  },
  {
   "cell_type": "code",
   "execution_count": null,
   "metadata": {},
   "outputs": [],
   "source": []
  }
 ],
 "metadata": {
  "kernelspec": {
   "display_name": "sat",
   "language": "python",
   "name": "python3"
  },
  "language_info": {
   "codemirror_mode": {
    "name": "ipython",
    "version": 3
   },
   "file_extension": ".py",
   "mimetype": "text/x-python",
   "name": "python",
   "nbconvert_exporter": "python",
   "pygments_lexer": "ipython3",
   "version": "3.10.0"
  }
 },
 "nbformat": 4,
 "nbformat_minor": 2
}
