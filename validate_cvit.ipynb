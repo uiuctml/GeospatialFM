{
 "cells": [
  {
   "cell_type": "markdown",
   "metadata": {},
   "source": [
    "- eval:\n",
    "    - test-time and train-time feed-forward\n",
    "    - channel mask and recon\n",
    "    - patch_embedding"
   ]
  },
  {
   "cell_type": "code",
   "execution_count": 1,
   "metadata": {},
   "outputs": [
    {
     "name": "stderr",
     "output_type": "stream",
     "text": [
      "/home/haozhesi/anaconda3/envs/sat/lib/python3.10/site-packages/tqdm/auto.py:21: TqdmWarning: IProgress not found. Please update jupyter and ipywidgets. See https://ipywidgets.readthedocs.io/en/stable/user_install.html\n",
      "  from .autonotebook import tqdm as notebook_tqdm\n"
     ]
    }
   ],
   "source": [
    "from GeospatialFM.models.channel_vit import ChannelViTEncoder\n",
    "from GeospatialFM.models.vision_transformer import ViTEncoder, ViTDecoder\n",
    "import torch\n",
    "from GeospatialFM.models.mae import CrossModalMAEViT\n",
    "from GeospatialFM.loss.mae_loss import SpectralInterpolationLoss\n",
    "\n",
    "%load_ext autoreload\n",
    "%autoreload 2"
   ]
  },
  {
   "cell_type": "code",
   "execution_count": 2,
   "metadata": {},
   "outputs": [],
   "source": [
    "optical_sample = torch.randn(2, 13, 224, 224)\n",
    "radar_sample = torch.randn(2, 2, 224, 224)"
   ]
  },
  {
   "cell_type": "code",
   "execution_count": 64,
   "metadata": {},
   "outputs": [],
   "source": [
    "optical_encoder = ChannelViTEncoder(in_chans=13, collpase_embed=False)\n",
    "decoder = ViTDecoder(out_chans=1)\n",
    "radar_encoder = ViTEncoder(in_chans=2)"
   ]
  },
  {
   "cell_type": "code",
   "execution_count": 65,
   "metadata": {},
   "outputs": [
    {
     "data": {
      "text/plain": [
       "147.0"
      ]
     },
     "execution_count": 65,
     "metadata": {},
     "output_type": "execute_result"
    }
   ],
   "source": [
    "196*3/4"
   ]
  },
  {
   "cell_type": "code",
   "execution_count": 66,
   "metadata": {},
   "outputs": [
    {
     "data": {
      "text/plain": [
       "592"
      ]
     },
     "execution_count": 66,
     "metadata": {},
     "output_type": "execute_result"
    }
   ],
   "source": [
    "148*4"
   ]
  },
  {
   "cell_type": "code",
   "execution_count": 67,
   "metadata": {},
   "outputs": [],
   "source": [
    "output = optical_encoder.forward_encoder(optical_sample, 0.75, 0.75)"
   ]
  },
  {
   "cell_type": "code",
   "execution_count": 69,
   "metadata": {},
   "outputs": [
    {
     "name": "stdout",
     "output_type": "stream",
     "text": [
      "torch.Size([2, 588, 512])\n"
     ]
    },
    {
     "ename": "RuntimeError",
     "evalue": "The size of tensor a (589) must match the size of tensor b (197) at non-singleton dimension 1",
     "output_type": "error",
     "traceback": [
      "\u001b[0;31m---------------------------------------------------------------------------\u001b[0m",
      "\u001b[0;31mRuntimeError\u001b[0m                              Traceback (most recent call last)",
      "Cell \u001b[0;32mIn[69], line 1\u001b[0m\n\u001b[0;32m----> 1\u001b[0m \u001b[43mdecoder\u001b[49m\u001b[38;5;241;43m.\u001b[39;49m\u001b[43mforward_decoder\u001b[49m\u001b[43m(\u001b[49m\u001b[43moutput\u001b[49m\u001b[43m[\u001b[49m\u001b[38;5;241;43m0\u001b[39;49m\u001b[43m]\u001b[49m\u001b[43m,\u001b[49m\u001b[43m \u001b[49m\u001b[43moutput\u001b[49m\u001b[43m[\u001b[49m\u001b[38;5;241;43m2\u001b[39;49m\u001b[43m]\u001b[49m\u001b[43m)\u001b[49m\n",
      "File \u001b[0;32m~/Dropbox/GeospatialFM/GeospatialFM/models/vision_transformer.py:349\u001b[0m, in \u001b[0;36mViTDecoder.forward_decoder\u001b[0;34m(self, x, ids_restore, restore_input_dim, slice_patch_tokens)\u001b[0m\n\u001b[1;32m    346\u001b[0m x \u001b[38;5;241m=\u001b[39m torch\u001b[38;5;241m.\u001b[39mcat([x[:, :\u001b[38;5;241m1\u001b[39m, :], x_], dim\u001b[38;5;241m=\u001b[39m\u001b[38;5;241m1\u001b[39m)  \u001b[38;5;66;03m# append cls token\u001b[39;00m\n\u001b[1;32m    348\u001b[0m \u001b[38;5;66;03m# add pos embed\u001b[39;00m\n\u001b[0;32m--> 349\u001b[0m x \u001b[38;5;241m=\u001b[39m \u001b[43mx\u001b[49m\u001b[43m \u001b[49m\u001b[38;5;241;43m+\u001b[39;49m\u001b[43m \u001b[49m\u001b[38;5;28;43mself\u001b[39;49m\u001b[38;5;241;43m.\u001b[39;49m\u001b[43mdecoder_pos_embed\u001b[49m\n\u001b[1;32m    351\u001b[0m \u001b[38;5;66;03m# apply Transformer blocks\u001b[39;00m\n\u001b[1;32m    352\u001b[0m \u001b[38;5;28;01mfor\u001b[39;00m blk \u001b[38;5;129;01min\u001b[39;00m \u001b[38;5;28mself\u001b[39m\u001b[38;5;241m.\u001b[39mdecoder_blocks:\n",
      "\u001b[0;31mRuntimeError\u001b[0m: The size of tensor a (589) must match the size of tensor b (197) at non-singleton dimension 1"
     ]
    }
   ],
   "source": [
    "decoder.forward_decoder(output[0], output[2])"
   ]
  },
  {
   "cell_type": "code",
   "execution_count": 11,
   "metadata": {},
   "outputs": [
    {
     "data": {
      "text/plain": [
       "196.0"
      ]
     },
     "execution_count": 11,
     "metadata": {},
     "output_type": "execute_result"
    }
   ],
   "source": [
    "optical_encoder.num_patches / 13"
   ]
  },
  {
   "cell_type": "code",
   "execution_count": 22,
   "metadata": {},
   "outputs": [],
   "source": [
    "mae = CrossModalMAEViT(optical_encoder, radar_encoder, decoder, decoder).train()"
   ]
  },
  {
   "cell_type": "code",
   "execution_count": 23,
   "metadata": {},
   "outputs": [
    {
     "name": "stdout",
     "output_type": "stream",
     "text": [
      "torch.Size([2, 196, 768]) torch.Size([2, 13])\n",
      "torch.Size([2, 196, 768]) torch.Size([2, 3328])\n"
     ]
    }
   ],
   "source": [
    "out = mae(optical_sample, radar_sample, 0.75, 11/12)"
   ]
  },
  {
   "cell_type": "code",
   "execution_count": 29,
   "metadata": {},
   "outputs": [
    {
     "data": {
      "text/plain": [
       "3328"
      ]
     },
     "execution_count": 29,
     "metadata": {},
     "output_type": "execute_result"
    }
   ],
   "source": [
    "out['optical_target'].shape[-1]"
   ]
  },
  {
   "cell_type": "code",
   "execution_count": 7,
   "metadata": {},
   "outputs": [
    {
     "data": {
      "text/plain": [
       "tensor([[[-0.0758,  0.2432, -0.6127,  ..., -0.1294,  1.4540,  0.4133],\n",
       "         [-0.0375,  0.4410,  0.3831,  ...,  0.9347,  0.1333,  0.5123],\n",
       "         [ 1.0506,  0.4840, -1.4962,  ...,  0.4558, -1.2226, -1.9523],\n",
       "         ...,\n",
       "         [-0.8677,  0.2095,  1.0767,  ...,  0.1305, -0.4224, -1.1259],\n",
       "         [ 0.1310,  0.6436,  0.3972,  ...,  0.8091,  0.2456, -0.2861],\n",
       "         [-0.3486, -0.0320, -0.4587,  ...,  1.3762,  1.0520,  0.9561]],\n",
       "\n",
       "        [[ 0.4941, -0.6912, -0.8781,  ...,  0.3940, -0.5473,  1.5865],\n",
       "         [ 0.8113,  0.3332,  1.1681,  ...,  1.6995,  1.7562, -0.0785],\n",
       "         [-0.5545, -0.0641, -0.0493,  ..., -1.2583,  1.1410, -0.8450],\n",
       "         ...,\n",
       "         [ 1.2646, -0.3340, -0.5218,  ...,  1.1230, -0.4622, -0.0545],\n",
       "         [ 0.5374, -0.1509, -1.1492,  ..., -0.3861, -1.7037,  0.2794],\n",
       "         [-1.3677,  0.2773,  1.6956,  ...,  0.3460,  1.3639,  0.2401]]])"
      ]
     },
     "execution_count": 7,
     "metadata": {},
     "output_type": "execute_result"
    }
   ],
   "source": [
    "optical_sample[:, 1]"
   ]
  },
  {
   "cell_type": "code",
   "execution_count": 9,
   "metadata": {},
   "outputs": [
    {
     "data": {
      "text/plain": [
       "torch.Size([2, 3328])"
      ]
     },
     "execution_count": 9,
     "metadata": {},
     "output_type": "execute_result"
    }
   ],
   "source": [
    "out['optical_channel_mask'].shape"
   ]
  },
  {
   "cell_type": "code",
   "execution_count": 39,
   "metadata": {},
   "outputs": [
    {
     "data": {
      "text/plain": [
       "tensor([1., 0., 1., 1., 1., 1., 1., 1., 1., 1., 1., 1., 1.])"
      ]
     },
     "execution_count": 39,
     "metadata": {},
     "output_type": "execute_result"
    }
   ],
   "source": [
    "out['optical_channel_mask'][1].reshape(256, 13)[0]"
   ]
  },
  {
   "cell_type": "code",
   "execution_count": 171,
   "metadata": {},
   "outputs": [
    {
     "data": {
      "text/plain": [
       "{'optical_channel_mse': tensor(0.8883, grad_fn=<MulBackward0>),\n",
       " 'radar_channel_mse': tensor(0.8874, grad_fn=<MulBackward0>)}"
      ]
     },
     "execution_count": 171,
     "metadata": {},
     "output_type": "execute_result"
    }
   ],
   "source": [
    "loss = SpectralInterpolationLoss()\n",
    "loss(**out, output_dict=True)"
   ]
  },
  {
   "cell_type": "code",
   "execution_count": 160,
   "metadata": {},
   "outputs": [
    {
     "name": "stdout",
     "output_type": "stream",
     "text": [
      "optical_mask torch.Size([2, 196])\n",
      "radar_mask torch.Size([2, 196])\n",
      "optical_recon torch.Size([2, 196, 3840])\n",
      "radar_recon torch.Size([2, 196, 3840])\n",
      "optical_target torch.Size([2, 196, 3328])\n",
      "radar_target torch.Size([2, 196, 512])\n",
      "optical_cls_token torch.Size([2, 768])\n",
      "radar_cls_token torch.Size([2, 768])\n",
      "logit_scale torch.Size([])\n",
      "optical_channel_mask torch.Size([2, 3328])\n"
     ]
    }
   ],
   "source": [
    "for key in out.keys():\n",
    "    print(key, out[key].shape)"
   ]
  },
  {
   "cell_type": "code",
   "execution_count": 86,
   "metadata": {},
   "outputs": [
    {
     "data": {
      "text/plain": [
       "256.0"
      ]
     },
     "execution_count": 86,
     "metadata": {},
     "output_type": "execute_result"
    }
   ],
   "source": [
    "3840 / 15"
   ]
  },
  {
   "cell_type": "code",
   "execution_count": 112,
   "metadata": {},
   "outputs": [],
   "source": [
    "optical_target = out['optical_target']\n",
    "optical_recon = out['optical_recon']\n",
    "radar_recon = out['radar_recon']\n",
    "B, L, D = optical_target.shape"
   ]
  },
  {
   "cell_type": "code",
   "execution_count": 165,
   "metadata": {},
   "outputs": [],
   "source": [
    "def _forward_channel_mse_one_modal(recon, target, mask):\n",
    "    B, L, D = target.shape\n",
    "    recon = recon[:, :, :D]\n",
    "    loss = (recon - target).abs()\n",
    "    loss = loss.mean(dim=1)\n",
    "    if mask.sum() == 0:\n",
    "        return loss.mean() # if no mask, mean loss on all channels\n",
    "    loss = (loss * mask).sum() / mask.sum()  # mean loss on removed patches\n",
    "    return loss"
   ]
  },
  {
   "cell_type": "code",
   "execution_count": 162,
   "metadata": {},
   "outputs": [
    {
     "data": {
      "text/plain": [
       "(torch.Size([2, 196, 3840]), torch.Size([2, 196, 3328]))"
      ]
     },
     "execution_count": 162,
     "metadata": {},
     "output_type": "execute_result"
    }
   ],
   "source": [
    "optical_recon.shape, optical_target.shape"
   ]
  },
  {
   "cell_type": "code",
   "execution_count": 163,
   "metadata": {},
   "outputs": [],
   "source": [
    "mask = out['optical_channel_mask']"
   ]
  },
  {
   "cell_type": "code",
   "execution_count": 166,
   "metadata": {},
   "outputs": [
    {
     "name": "stdout",
     "output_type": "stream",
     "text": [
      "torch.Size([2, 3328]) tensor(0.8925, grad_fn=<DivBackward0>)\n"
     ]
    }
   ],
   "source": [
    "_unimodal_channel_loss(optical_recon, optical_target, mask)"
   ]
  },
  {
   "cell_type": "code",
   "execution_count": null,
   "metadata": {},
   "outputs": [],
   "source": [
    "optical_loss = optical_recon[:, :, :D]\n",
    "radar_recon_o = radar_recon[:, :, :D]"
   ]
  },
  {
   "cell_type": "code",
   "execution_count": null,
   "metadata": {},
   "outputs": [],
   "source": [
    "expanded_mask = mask.unsqueeze(1).unsqueeze(1).expand(B, L, 256, -1).reshape(B, L, D)\n"
   ]
  },
  {
   "cell_type": "code",
   "execution_count": null,
   "metadata": {},
   "outputs": [
    {
     "data": {
      "text/plain": [
       "torch.Size([2, 196, 3328])"
      ]
     },
     "execution_count": 105,
     "metadata": {},
     "output_type": "execute_result"
    }
   ],
   "source": [
    "recon_channels = (expanded_mask * radar_recon_o)\n",
    "recon_channels.shape"
   ]
  },
  {
   "cell_type": "code",
   "execution_count": null,
   "metadata": {},
   "outputs": [],
   "source": []
  }
 ],
 "metadata": {
  "kernelspec": {
   "display_name": "sat",
   "language": "python",
   "name": "python3"
  },
  "language_info": {
   "codemirror_mode": {
    "name": "ipython",
    "version": 3
   },
   "file_extension": ".py",
   "mimetype": "text/x-python",
   "name": "python",
   "nbconvert_exporter": "python",
   "pygments_lexer": "ipython3",
   "version": "3.10.0"
  }
 },
 "nbformat": 4,
 "nbformat_minor": 2
}
