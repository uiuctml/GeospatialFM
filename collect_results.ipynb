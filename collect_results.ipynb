{
 "cells": [
  {
   "cell_type": "code",
   "execution_count": 3,
   "metadata": {},
   "outputs": [],
   "source": [
    "import pandas as pd\n",
    "import matplotlib.pyplot as plt\n",
    "import seaborn as sns"
   ]
  },
  {
   "cell_type": "code",
   "execution_count": 21,
   "metadata": {},
   "outputs": [],
   "source": [
    "# dataset = 'BigEarthNet'\n",
    "dataset = 'EuroSAT'\n",
    "prefix = 'c'\n",
    "# prefix = ''\n",
    "postfix = ''\n",
    "# postfix = '_b'\n",
    "model = f'{prefix}vit_base_patch16_224'\n",
    "name = f'mae_{prefix}vit{postfix}'\n",
    "name  = f'mae_ec_vit'\n",
    "metric = 'mAP' if dataset == 'BigEarthNet' else 'image_acc'"
   ]
  },
  {
   "cell_type": "code",
   "execution_count": 32,
   "metadata": {},
   "outputs": [],
   "source": [
    "path = f'./results/logs/{dataset}_{model}_{name}/ft_metrics.csv'\n",
    "df = pd.read_csv(path)\n",
    "df.sort_values(by=[metric], inplace=True)"
   ]
  },
  {
   "cell_type": "code",
   "execution_count": 33,
   "metadata": {},
   "outputs": [
    {
     "data": {
      "text/html": [
       "<div>\n",
       "<style scoped>\n",
       "    .dataframe tbody tr th:only-of-type {\n",
       "        vertical-align: middle;\n",
       "    }\n",
       "\n",
       "    .dataframe tbody tr th {\n",
       "        vertical-align: top;\n",
       "    }\n",
       "\n",
       "    .dataframe thead th {\n",
       "        text-align: right;\n",
       "    }\n",
       "</style>\n",
       "<table border=\"1\" class=\"dataframe\">\n",
       "  <thead>\n",
       "    <tr style=\"text-align: right;\">\n",
       "      <th></th>\n",
       "      <th>epochs</th>\n",
       "      <th>lr</th>\n",
       "      <th>weight_decay</th>\n",
       "      <th>ce</th>\n",
       "      <th>loss</th>\n",
       "      <th>image_acc</th>\n",
       "      <th>epoch</th>\n",
       "      <th>num_samples</th>\n",
       "    </tr>\n",
       "  </thead>\n",
       "  <tbody>\n",
       "    <tr>\n",
       "      <th>2</th>\n",
       "      <td>10</td>\n",
       "      <td>0.0010</td>\n",
       "      <td>0.05</td>\n",
       "      <td>0.139815</td>\n",
       "      <td>0.139815</td>\n",
       "      <td>0.953889</td>\n",
       "      <td>10</td>\n",
       "      <td>5400</td>\n",
       "    </tr>\n",
       "    <tr>\n",
       "      <th>7</th>\n",
       "      <td>10</td>\n",
       "      <td>0.0006</td>\n",
       "      <td>0.05</td>\n",
       "      <td>0.135472</td>\n",
       "      <td>0.135472</td>\n",
       "      <td>0.954630</td>\n",
       "      <td>10</td>\n",
       "      <td>5400</td>\n",
       "    </tr>\n",
       "    <tr>\n",
       "      <th>5</th>\n",
       "      <td>10</td>\n",
       "      <td>0.0009</td>\n",
       "      <td>0.05</td>\n",
       "      <td>0.136128</td>\n",
       "      <td>0.136128</td>\n",
       "      <td>0.957222</td>\n",
       "      <td>10</td>\n",
       "      <td>5400</td>\n",
       "    </tr>\n",
       "    <tr>\n",
       "      <th>0</th>\n",
       "      <td>10</td>\n",
       "      <td>0.0001</td>\n",
       "      <td>0.05</td>\n",
       "      <td>0.123284</td>\n",
       "      <td>0.123284</td>\n",
       "      <td>0.961296</td>\n",
       "      <td>10</td>\n",
       "      <td>5400</td>\n",
       "    </tr>\n",
       "    <tr>\n",
       "      <th>4</th>\n",
       "      <td>10</td>\n",
       "      <td>0.0007</td>\n",
       "      <td>0.05</td>\n",
       "      <td>0.115748</td>\n",
       "      <td>0.115748</td>\n",
       "      <td>0.962593</td>\n",
       "      <td>10</td>\n",
       "      <td>5400</td>\n",
       "    </tr>\n",
       "    <tr>\n",
       "      <th>1</th>\n",
       "      <td>10</td>\n",
       "      <td>0.0005</td>\n",
       "      <td>0.05</td>\n",
       "      <td>0.114966</td>\n",
       "      <td>0.114966</td>\n",
       "      <td>0.963519</td>\n",
       "      <td>10</td>\n",
       "      <td>5400</td>\n",
       "    </tr>\n",
       "    <tr>\n",
       "      <th>8</th>\n",
       "      <td>10</td>\n",
       "      <td>0.0002</td>\n",
       "      <td>0.05</td>\n",
       "      <td>0.111281</td>\n",
       "      <td>0.111281</td>\n",
       "      <td>0.964815</td>\n",
       "      <td>10</td>\n",
       "      <td>5400</td>\n",
       "    </tr>\n",
       "    <tr>\n",
       "      <th>9</th>\n",
       "      <td>10</td>\n",
       "      <td>0.0002</td>\n",
       "      <td>0.05</td>\n",
       "      <td>0.111281</td>\n",
       "      <td>0.111281</td>\n",
       "      <td>0.964815</td>\n",
       "      <td>10</td>\n",
       "      <td>5400</td>\n",
       "    </tr>\n",
       "    <tr>\n",
       "      <th>6</th>\n",
       "      <td>10</td>\n",
       "      <td>0.0004</td>\n",
       "      <td>0.05</td>\n",
       "      <td>0.111105</td>\n",
       "      <td>0.111105</td>\n",
       "      <td>0.965556</td>\n",
       "      <td>10</td>\n",
       "      <td>5400</td>\n",
       "    </tr>\n",
       "    <tr>\n",
       "      <th>3</th>\n",
       "      <td>10</td>\n",
       "      <td>0.0003</td>\n",
       "      <td>0.05</td>\n",
       "      <td>0.110846</td>\n",
       "      <td>0.110846</td>\n",
       "      <td>0.966296</td>\n",
       "      <td>10</td>\n",
       "      <td>5400</td>\n",
       "    </tr>\n",
       "  </tbody>\n",
       "</table>\n",
       "</div>"
      ],
      "text/plain": [
       "   epochs      lr  weight_decay        ce      loss  image_acc  epoch  \\\n",
       "2      10  0.0010          0.05  0.139815  0.139815   0.953889     10   \n",
       "7      10  0.0006          0.05  0.135472  0.135472   0.954630     10   \n",
       "5      10  0.0009          0.05  0.136128  0.136128   0.957222     10   \n",
       "0      10  0.0001          0.05  0.123284  0.123284   0.961296     10   \n",
       "4      10  0.0007          0.05  0.115748  0.115748   0.962593     10   \n",
       "1      10  0.0005          0.05  0.114966  0.114966   0.963519     10   \n",
       "8      10  0.0002          0.05  0.111281  0.111281   0.964815     10   \n",
       "9      10  0.0002          0.05  0.111281  0.111281   0.964815     10   \n",
       "6      10  0.0004          0.05  0.111105  0.111105   0.965556     10   \n",
       "3      10  0.0003          0.05  0.110846  0.110846   0.966296     10   \n",
       "\n",
       "   num_samples  \n",
       "2         5400  \n",
       "7         5400  \n",
       "5         5400  \n",
       "0         5400  \n",
       "4         5400  \n",
       "1         5400  \n",
       "8         5400  \n",
       "9         5400  \n",
       "6         5400  \n",
       "3         5400  "
      ]
     },
     "execution_count": 33,
     "metadata": {},
     "output_type": "execute_result"
    }
   ],
   "source": [
    "df"
   ]
  },
  {
   "cell_type": "code",
   "execution_count": 34,
   "metadata": {},
   "outputs": [
    {
     "data": {
      "image/png": "[encoded data removed]",
      "text/plain": [
       "<Figure size 640x480 with 1 Axes>"
      ]
     },
     "metadata": {},
     "output_type": "display_data"
    }
   ],
   "source": [
    "sns.lineplot(data=df, x='lr', y='image_acc', hue='weight_decay')\n",
    "# set x axis log scale\n",
    "plt.xscale('log')"
   ]
  },
  {
   "cell_type": "code",
   "execution_count": 35,
   "metadata": {},
   "outputs": [],
   "source": [
    "path = f'./results/logs/{dataset}_{model}_{name}/lp_metrics.csv'\n",
    "df = pd.read_csv(path)\n",
    "df.sort_values(by=[metric], inplace=True)"
   ]
  },
  {
   "cell_type": "code",
   "execution_count": 36,
   "metadata": {},
   "outputs": [
    {
     "data": {
      "text/html": [
       "<div>\n",
       "<style scoped>\n",
       "    .dataframe tbody tr th:only-of-type {\n",
       "        vertical-align: middle;\n",
       "    }\n",
       "\n",
       "    .dataframe tbody tr th {\n",
       "        vertical-align: top;\n",
       "    }\n",
       "\n",
       "    .dataframe thead th {\n",
       "        text-align: right;\n",
       "    }\n",
       "</style>\n",
       "<table border=\"1\" class=\"dataframe\">\n",
       "  <thead>\n",
       "    <tr style=\"text-align: right;\">\n",
       "      <th></th>\n",
       "      <th>epochs</th>\n",
       "      <th>lr</th>\n",
       "      <th>weight_decay</th>\n",
       "      <th>ce</th>\n",
       "      <th>loss</th>\n",
       "      <th>image_acc</th>\n",
       "      <th>epoch</th>\n",
       "      <th>num_samples</th>\n",
       "    </tr>\n",
       "  </thead>\n",
       "  <tbody>\n",
       "    <tr>\n",
       "      <th>4</th>\n",
       "      <td>100</td>\n",
       "      <td>0.001</td>\n",
       "      <td>0</td>\n",
       "      <td>0.413896</td>\n",
       "      <td>0.413896</td>\n",
       "      <td>0.871111</td>\n",
       "      <td>100</td>\n",
       "      <td>5400</td>\n",
       "    </tr>\n",
       "    <tr>\n",
       "      <th>3</th>\n",
       "      <td>100</td>\n",
       "      <td>0.005</td>\n",
       "      <td>0</td>\n",
       "      <td>0.293289</td>\n",
       "      <td>0.293289</td>\n",
       "      <td>0.906111</td>\n",
       "      <td>100</td>\n",
       "      <td>5400</td>\n",
       "    </tr>\n",
       "    <tr>\n",
       "      <th>2</th>\n",
       "      <td>100</td>\n",
       "      <td>0.010</td>\n",
       "      <td>0</td>\n",
       "      <td>0.266250</td>\n",
       "      <td>0.266250</td>\n",
       "      <td>0.915185</td>\n",
       "      <td>100</td>\n",
       "      <td>5400</td>\n",
       "    </tr>\n",
       "    <tr>\n",
       "      <th>1</th>\n",
       "      <td>100</td>\n",
       "      <td>0.050</td>\n",
       "      <td>0</td>\n",
       "      <td>0.242708</td>\n",
       "      <td>0.242708</td>\n",
       "      <td>0.921481</td>\n",
       "      <td>100</td>\n",
       "      <td>5400</td>\n",
       "    </tr>\n",
       "    <tr>\n",
       "      <th>0</th>\n",
       "      <td>100</td>\n",
       "      <td>0.100</td>\n",
       "      <td>0</td>\n",
       "      <td>0.250554</td>\n",
       "      <td>0.250554</td>\n",
       "      <td>0.921852</td>\n",
       "      <td>100</td>\n",
       "      <td>5400</td>\n",
       "    </tr>\n",
       "  </tbody>\n",
       "</table>\n",
       "</div>"
      ],
      "text/plain": [
       "   epochs     lr  weight_decay        ce      loss  image_acc  epoch  \\\n",
       "4     100  0.001             0  0.413896  0.413896   0.871111    100   \n",
       "3     100  0.005             0  0.293289  0.293289   0.906111    100   \n",
       "2     100  0.010             0  0.266250  0.266250   0.915185    100   \n",
       "1     100  0.050             0  0.242708  0.242708   0.921481    100   \n",
       "0     100  0.100             0  0.250554  0.250554   0.921852    100   \n",
       "\n",
       "   num_samples  \n",
       "4         5400  \n",
       "3         5400  \n",
       "2         5400  \n",
       "1         5400  \n",
       "0         5400  "
      ]
     },
     "execution_count": 36,
     "metadata": {},
     "output_type": "execute_result"
    }
   ],
   "source": [
    "df"
   ]
  },
  {
   "cell_type": "code",
   "execution_count": 37,
   "metadata": {},
   "outputs": [
    {
     "data": {
      "text/plain": [
       "<Axes: xlabel='lr', ylabel='image_acc'>"
      ]
     },
     "execution_count": 37,
     "metadata": {},
     "output_type": "execute_result"
    },
    {
     "data": {
      "image/png": "[encoded data removed]",
      "text/plain": [
       "<Figure size 640x480 with 1 Axes>"
      ]
     },
     "metadata": {},
     "output_type": "display_data"
    }
   ],
   "source": [
    "sns.lineplot(data=df, x='lr', y=metric, hue='weight_decay')"
   ]
  },
  {
   "cell_type": "code",
   "execution_count": null,
   "metadata": {},
   "outputs": [],
   "source": []
  }
 ],
 "metadata": {
  "kernelspec": {
   "display_name": "sat",
   "language": "python",
   "name": "python3"
  },
  "language_info": {
   "codemirror_mode": {
    "name": "ipython",
    "version": 3
   },
   "file_extension": ".py",
   "mimetype": "text/x-python",
   "name": "python",
   "nbconvert_exporter": "python",
   "pygments_lexer": "ipython3",
   "version": "3.10.0"
  }
 },
 "nbformat": 4,
 "nbformat_minor": 2
}
