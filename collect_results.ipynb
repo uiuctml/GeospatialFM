{
 "cells": [
  {
   "cell_type": "code",
   "execution_count": 1,
   "metadata": {},
   "outputs": [],
   "source": [
    "import pandas as pd\n",
    "import matplotlib.pyplot as plt\n",
    "import seaborn as sns\n",
    "import os"
   ]
  },
  {
   "cell_type": "code",
   "execution_count": 2,
   "metadata": {},
   "outputs": [],
   "source": [
    "dataset = 'BigEarthNet'\n",
    "dataset = 'EuroSAT'\n",
    "dataset = 'So2Sat'\n",
    "# dataset = 'OSCD'\n",
    "models = []\n",
    "names = []\n",
    "# models += ['vit_base_patch16_224']\n",
    "# models += ['cvit_base_patch16_224']\n",
    "models += ['cvit_p1_base_patch16_224']\n",
    "# names += ['mae_vit_v2']\n",
    "# names += ['mae_cvit_v2']\n",
    "# names += ['mae_base']\n",
    "# names += ['mae_vit_btnk']\n",
    "metric = 'micro_mAP' if dataset == 'BigEarthNet' else 'accuracy'\n",
    "if dataset == 'OSCD':\n",
    "    # metric = 'precision'\n",
    "    metric = 'f1'\n",
    "    # metric = 'recall'"
   ]
  },
  {
   "cell_type": "code",
   "execution_count": 3,
   "metadata": {},
   "outputs": [
    {
     "data": {
      "text/plain": [
       "['So2Sat_cvit_p1_base_patch16_224_mae_cvit_0-12-0',\n",
       " 'So2Sat_cvit_p1_base_patch16_224_mae_cvit_0-1-11',\n",
       " 'So2Sat_cvit_p1_base_patch16_224_mae_cvit_4-4-4',\n",
       " 'So2Sat_cvit_p1_base_patch16_224_mae_cvit_1-1-10',\n",
       " 'So2Sat_cvit_p1_base_patch16_224_mae_cvit_0-0-12',\n",
       " 'So2Sat_cvit_p1_base_patch16_224_mae_cvit_1-0-11']"
      ]
     },
     "execution_count": 3,
     "metadata": {},
     "output_type": "execute_result"
    }
   ],
   "source": [
    "log_path = './results/logs/'\n",
    "all_logs = os.listdir(log_path)\n",
    "target_logs = [log for log in all_logs if dataset in log and any([model in log for model in models])]\n",
    "# print(len(target_logs))\n",
    "target_logs"
   ]
  },
  {
   "cell_type": "code",
   "execution_count": 4,
   "metadata": {},
   "outputs": [
    {
     "name": "stdout",
     "output_type": "stream",
     "text": [
      "4\n"
     ]
    },
    {
     "data": {
      "text/html": [
       "<div>\n",
       "<style scoped>\n",
       "    .dataframe tbody tr th:only-of-type {\n",
       "        vertical-align: middle;\n",
       "    }\n",
       "\n",
       "    .dataframe tbody tr th {\n",
       "        vertical-align: top;\n",
       "    }\n",
       "\n",
       "    .dataframe thead th {\n",
       "        text-align: right;\n",
       "    }\n",
       "</style>\n",
       "<table border=\"1\" class=\"dataframe\">\n",
       "  <thead>\n",
       "    <tr style=\"text-align: right;\">\n",
       "      <th></th>\n",
       "      <th>epochs</th>\n",
       "      <th>lr</th>\n",
       "      <th>weight_decay</th>\n",
       "      <th>ce</th>\n",
       "      <th>loss</th>\n",
       "      <th>accuracy</th>\n",
       "      <th>epoch</th>\n",
       "      <th>num_samples</th>\n",
       "      <th>model</th>\n",
       "    </tr>\n",
       "  </thead>\n",
       "  <tbody>\n",
       "    <tr>\n",
       "      <th>3</th>\n",
       "      <td>10</td>\n",
       "      <td>0.0005</td>\n",
       "      <td>0.0005</td>\n",
       "      <td>2.093865</td>\n",
       "      <td>2.093865</td>\n",
       "      <td>0.634152</td>\n",
       "      <td>10</td>\n",
       "      <td>48307</td>\n",
       "      <td>mae_cvit_0-0-12</td>\n",
       "    </tr>\n",
       "    <tr>\n",
       "      <th>1</th>\n",
       "      <td>10</td>\n",
       "      <td>0.0005</td>\n",
       "      <td>0.0005</td>\n",
       "      <td>2.214312</td>\n",
       "      <td>2.214312</td>\n",
       "      <td>0.637506</td>\n",
       "      <td>10</td>\n",
       "      <td>48307</td>\n",
       "      <td>mae_cvit_1-1-10</td>\n",
       "    </tr>\n",
       "  </tbody>\n",
       "</table>\n",
       "</div>"
      ],
      "text/plain": [
       "   epochs      lr  weight_decay        ce      loss  accuracy  epoch  \\\n",
       "3      10  0.0005        0.0005  2.093865  2.093865  0.634152     10   \n",
       "1      10  0.0005        0.0005  2.214312  2.214312  0.637506     10   \n",
       "\n",
       "   num_samples            model  \n",
       "3        48307  mae_cvit_0-0-12  \n",
       "1        48307  mae_cvit_1-1-10  "
      ]
     },
     "execution_count": 4,
     "metadata": {},
     "output_type": "execute_result"
    }
   ],
   "source": [
    "df_all = pd.DataFrame()\n",
    "for target_log in target_logs:\n",
    "    name = '_'.join(target_log.split('_')[-3:])\n",
    "    try:\n",
    "        path = f'./results/logs/{target_log}/ft_metrics.csv'\n",
    "        df = pd.read_csv(path)\n",
    "        df.sort_values(by=[metric], inplace=True)\n",
    "    except:\n",
    "        continue\n",
    "    # add model name\n",
    "    df['model'] = name\n",
    "    df_all = pd.concat([df_all, df], ignore_index=True)\n",
    "# df_all.sort_values(by=[metric], inplace=True)\n",
    "# get the best lr for each model\n",
    "df_all_best = df_all.loc[df_all.groupby('model')[metric].idxmax()]\n",
    "print(len(df_all))\n",
    "df_all_best.sort_values(by=[metric])\n",
    "# df_all"
   ]
  },
  {
   "cell_type": "code",
   "execution_count": 5,
   "metadata": {},
   "outputs": [
    {
     "ename": "NameError",
     "evalue": "name 'df_all' is not defined",
     "output_type": "error",
     "traceback": [
      "\u001b[0;31m---------------------------------------------------------------------------\u001b[0m",
      "\u001b[0;31mNameError\u001b[0m                                 Traceback (most recent call last)",
      "Cell \u001b[0;32mIn[5], line 1\u001b[0m\n\u001b[0;32m----> 1\u001b[0m sns\u001b[38;5;241m.\u001b[39mlineplot(data\u001b[38;5;241m=\u001b[39m\u001b[43mdf_all\u001b[49m\u001b[38;5;241m.\u001b[39mloc[df_all\u001b[38;5;241m.\u001b[39mweight_decay\u001b[38;5;241m==\u001b[39m\u001b[38;5;241m5e-6\u001b[39m], x\u001b[38;5;241m=\u001b[39m\u001b[38;5;124m'\u001b[39m\u001b[38;5;124mlr\u001b[39m\u001b[38;5;124m'\u001b[39m, y\u001b[38;5;241m=\u001b[39mmetric, hue\u001b[38;5;241m=\u001b[39m\u001b[38;5;124m'\u001b[39m\u001b[38;5;124mmodel\u001b[39m\u001b[38;5;124m'\u001b[39m)\n\u001b[1;32m      2\u001b[0m \u001b[38;5;66;03m# set x axis log scale\u001b[39;00m\n\u001b[1;32m      3\u001b[0m plt\u001b[38;5;241m.\u001b[39mxscale(\u001b[38;5;124m'\u001b[39m\u001b[38;5;124mlog\u001b[39m\u001b[38;5;124m'\u001b[39m)\n",
      "\u001b[0;31mNameError\u001b[0m: name 'df_all' is not defined"
     ]
    }
   ],
   "source": [
    "sns.lineplot(data=df_all.loc[df_all.weight_decay==5e-6], x='lr', y=metric, hue='model')\n",
    "# set x axis log scale\n",
    "plt.xscale('log')"
   ]
  },
  {
   "cell_type": "code",
   "execution_count": 36,
   "metadata": {},
   "outputs": [
    {
     "data": {
      "text/html": [
       "<div>\n",
       "<style scoped>\n",
       "    .dataframe tbody tr th:only-of-type {\n",
       "        vertical-align: middle;\n",
       "    }\n",
       "\n",
       "    .dataframe tbody tr th {\n",
       "        vertical-align: top;\n",
       "    }\n",
       "\n",
       "    .dataframe thead th {\n",
       "        text-align: right;\n",
       "    }\n",
       "</style>\n",
       "<table border=\"1\" class=\"dataframe\">\n",
       "  <thead>\n",
       "    <tr style=\"text-align: right;\">\n",
       "      <th></th>\n",
       "      <th>epochs</th>\n",
       "      <th>lr</th>\n",
       "      <th>weight_decay</th>\n",
       "      <th>ce</th>\n",
       "      <th>loss</th>\n",
       "      <th>accuracy</th>\n",
       "      <th>epoch</th>\n",
       "      <th>num_samples</th>\n",
       "      <th>model</th>\n",
       "    </tr>\n",
       "  </thead>\n",
       "  <tbody>\n",
       "    <tr>\n",
       "      <th>13</th>\n",
       "      <td>100</td>\n",
       "      <td>0.08</td>\n",
       "      <td>0</td>\n",
       "      <td>0.200129</td>\n",
       "      <td>0.200129</td>\n",
       "      <td>0.935185</td>\n",
       "      <td>100</td>\n",
       "      <td>5400</td>\n",
       "      <td>mae_cvit_0-12-0</td>\n",
       "    </tr>\n",
       "    <tr>\n",
       "      <th>34</th>\n",
       "      <td>100</td>\n",
       "      <td>0.08</td>\n",
       "      <td>0</td>\n",
       "      <td>0.188399</td>\n",
       "      <td>0.188399</td>\n",
       "      <td>0.939074</td>\n",
       "      <td>100</td>\n",
       "      <td>5400</td>\n",
       "      <td>mae_cvit_1-1-10</td>\n",
       "    </tr>\n",
       "    <tr>\n",
       "      <th>41</th>\n",
       "      <td>100</td>\n",
       "      <td>0.06</td>\n",
       "      <td>0</td>\n",
       "      <td>0.184786</td>\n",
       "      <td>0.184786</td>\n",
       "      <td>0.943889</td>\n",
       "      <td>100</td>\n",
       "      <td>5400</td>\n",
       "      <td>mae_cvit_4-4-4</td>\n",
       "    </tr>\n",
       "    <tr>\n",
       "      <th>6</th>\n",
       "      <td>100</td>\n",
       "      <td>0.09</td>\n",
       "      <td>0</td>\n",
       "      <td>0.186212</td>\n",
       "      <td>0.186212</td>\n",
       "      <td>0.944444</td>\n",
       "      <td>100</td>\n",
       "      <td>5400</td>\n",
       "      <td>mae_cvit_1-0-11</td>\n",
       "    </tr>\n",
       "    <tr>\n",
       "      <th>20</th>\n",
       "      <td>100</td>\n",
       "      <td>0.10</td>\n",
       "      <td>0</td>\n",
       "      <td>0.186553</td>\n",
       "      <td>0.186553</td>\n",
       "      <td>0.945185</td>\n",
       "      <td>100</td>\n",
       "      <td>5400</td>\n",
       "      <td>mae_cvit_0-0-12</td>\n",
       "    </tr>\n",
       "    <tr>\n",
       "      <th>27</th>\n",
       "      <td>100</td>\n",
       "      <td>0.09</td>\n",
       "      <td>0</td>\n",
       "      <td>0.176758</td>\n",
       "      <td>0.176758</td>\n",
       "      <td>0.947407</td>\n",
       "      <td>100</td>\n",
       "      <td>5400</td>\n",
       "      <td>mae_cvit_0-1-11</td>\n",
       "    </tr>\n",
       "  </tbody>\n",
       "</table>\n",
       "</div>"
      ],
      "text/plain": [
       "    epochs    lr  weight_decay        ce      loss  accuracy  epoch  \\\n",
       "13     100  0.08             0  0.200129  0.200129  0.935185    100   \n",
       "34     100  0.08             0  0.188399  0.188399  0.939074    100   \n",
       "41     100  0.06             0  0.184786  0.184786  0.943889    100   \n",
       "6      100  0.09             0  0.186212  0.186212  0.944444    100   \n",
       "20     100  0.10             0  0.186553  0.186553  0.945185    100   \n",
       "27     100  0.09             0  0.176758  0.176758  0.947407    100   \n",
       "\n",
       "    num_samples            model  \n",
       "13         5400  mae_cvit_0-12-0  \n",
       "34         5400  mae_cvit_1-1-10  \n",
       "41         5400   mae_cvit_4-4-4  \n",
       "6          5400  mae_cvit_1-0-11  \n",
       "20         5400  mae_cvit_0-0-12  \n",
       "27         5400  mae_cvit_0-1-11  "
      ]
     },
     "execution_count": 36,
     "metadata": {},
     "output_type": "execute_result"
    }
   ],
   "source": [
    "df_all = pd.DataFrame()\n",
    "for target_log in target_logs:\n",
    "    name = '_'.join(target_log.split('_')[-3:])\n",
    "    try:\n",
    "        path = f'./results/logs/{target_log}/lp_metrics.csv'\n",
    "        df = pd.read_csv(path)\n",
    "        df.sort_values(by=[metric], inplace=True)\n",
    "    except:\n",
    "        continue\n",
    "    # add model name\n",
    "    df['model'] = name\n",
    "    df_all = pd.concat([df_all, df], ignore_index=True)\n",
    "# df_all.sort_values(by=[metric], inplace=True)\n",
    "# get the best lr for each model\n",
    "df_all_best = df_all.loc[df_all.groupby('model')[metric].idxmax()]\n",
    "# df_all\n",
    "df_all_best.sort_values(by=[metric])"
   ]
  },
  {
   "cell_type": "code",
   "execution_count": 48,
   "metadata": {},
   "outputs": [
    {
     "data": {
      "text/plain": [
       "<Axes: xlabel='lr', ylabel='accuracy'>"
      ]
     },
     "execution_count": 48,
     "metadata": {},
     "output_type": "execute_result"
    },
    {
     "data": {
      "image/png": "[encoded data removed]",
      "text/plain": [
       "<Figure size 640x480 with 1 Axes>"
      ]
     },
     "metadata": {},
     "output_type": "display_data"
    }
   ],
   "source": [
    "sns.lineplot(data=df_all.loc[df_all.epochs==100], x='lr', y=metric, hue='model')"
   ]
  },
  {
   "cell_type": "code",
   "execution_count": null,
   "metadata": {},
   "outputs": [],
   "source": []
  },
  {
   "cell_type": "code",
   "execution_count": null,
   "metadata": {},
   "outputs": [],
   "source": []
  }
 ],
 "metadata": {
  "kernelspec": {
   "display_name": "sat",
   "language": "python",
   "name": "python3"
  },
  "language_info": {
   "codemirror_mode": {
    "name": "ipython",
    "version": 3
   },
   "file_extension": ".py",
   "mimetype": "text/x-python",
   "name": "python",
   "nbconvert_exporter": "python",
   "pygments_lexer": "ipython3",
   "version": "3.10.13"
  }
 },
 "nbformat": 4,
 "nbformat_minor": 2
}
