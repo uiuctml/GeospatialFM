{
 "cells": [
  {
   "cell_type": "code",
   "execution_count": 1,
   "metadata": {},
   "outputs": [],
   "source": [
    "import pandas as pd\n",
    "import matplotlib.pyplot as plt\n",
    "import seaborn as sns\n",
    "import os\n",
    "import re\n",
    "import json\n",
    "import numpy as np"
   ]
  },
  {
   "cell_type": "code",
   "execution_count": 2,
   "metadata": {},
   "outputs": [],
   "source": [
    "RESULTS_ROOT = '/data/common/geospatial_fm/models'\n",
    "model_name = \"LESSVIT\""
   ]
  },
  {
   "cell_type": "code",
   "execution_count": 3,
   "metadata": {},
   "outputs": [],
   "source": [
    "def clear_ckpts(dataset):\n",
    "    import shutil\n",
    "    cnt = 0\n",
    "    dataset_dir = f\"{RESULTS_ROOT}/{dataset}\"\n",
    "    for dir in os.listdir(dataset_dir):\n",
    "        if os.path.exists(os.path.join(dataset_dir, dir, \"test_results.json\")):\n",
    "            # remove all ckpts dirs\n",
    "            for sub_dir in os.listdir(os.path.join(dataset_dir, dir)):\n",
    "                if \"checkpoint\" in sub_dir:\n",
    "                    shutil.rmtree(os.path.join(dataset_dir, dir, sub_dir))\n",
    "                    cnt += 1\n",
    "    print(f\"Cleared {cnt} ckpts for {dataset}\")"
   ]
  },
  {
   "cell_type": "code",
   "execution_count": 4,
   "metadata": {},
   "outputs": [],
   "source": [
    "def collect_results(model_name, dataset, metric_name, filter_key:dict=None):\n",
    "    dataset_dir = f\"{RESULTS_ROOT}/{dataset}\"\n",
    "    \n",
    "    df_all = []\n",
    "    for dir in os.listdir(dataset_dir):\n",
    "        if model_name not in dir:\n",
    "            continue\n",
    "        target_file = os.path.join(dataset_dir, dir, \"test_results.json\")\n",
    "        try:\n",
    "            with open(target_file, 'r') as f:\n",
    "                log = json.load(f)\n",
    "        except:\n",
    "            continue\n",
    "        lp = \"lp\" in dir\n",
    "        modal = \"optical\"\n",
    "        if \"radar\" in dir:\n",
    "            modal = \"radar\"\n",
    "        elif \"multi\" in dir:\n",
    "            modal = \"multi\"\n",
    "        # replace the first - with _\n",
    "        if \"LESSVIT-S\" in dir: dir = dir.replace(\"LESSVIT-S\", \"LESSVIT_s\")\n",
    "        model_config = dir.split(\"_\")\n",
    "            \n",
    "        moe_idx = next((i for i, x in enumerate(model_config) if x.startswith(\"moe\")), None)\n",
    "        if moe_idx is not None:\n",
    "            log['moe'] = int(model_config.pop(moe_idx).replace(\"moe\", \"\"))\n",
    "        else:\n",
    "            log['moe'] = 0\n",
    "            \n",
    "        topk_idx = next((i for i, x in enumerate(model_config) if x.startswith(\"topk\")), None)\n",
    "        if topk_idx is not None:\n",
    "            log['topk'] = int(model_config.pop(topk_idx).replace(\"topk\", \"\"))\n",
    "        else:\n",
    "            log['topk'] = 3\n",
    "        \n",
    "        # find the config start with ckpt\n",
    "        ckpt_idx = next((i for i, x in enumerate(model_config) if x.startswith(\"ckpt\")), None)\n",
    "        if ckpt_idx is not None:\n",
    "            log['ckpt'] = int(model_config.pop(ckpt_idx).replace(\"ckpt\", \"\"))\n",
    "        else:\n",
    "            log['ckpt'] = 24600\n",
    "        \n",
    "        try:\n",
    "            model_config = model_config[:7]\n",
    "            _, embed_dims, depth, rank, _, lr, scale = tuple(model_config) \n",
    "            log['embed_dims'] = int(embed_dims.replace(\"s\", \"\")) # TODO: choose between s and b\n",
    "            log['depth'] = int(depth.replace(\"d\", \"\"))\n",
    "            log['lr'] = float(lr.replace(\"lr\", \"\"))\n",
    "            log['scale'] = float(scale.replace(\"scale\", \"\"))\n",
    "            log['lp'] = lp\n",
    "            log['modal'] = modal\n",
    "            log['rank'] = int(rank.replace(\"r\", \"\"))\n",
    "        except:\n",
    "            model_config = model_config[:6]\n",
    "            _, embed_dims, depth, _, lr, scale = tuple(model_config) \n",
    "        \n",
    "            log['embed_dims'] = int(embed_dims.replace(\"b\", \"\"))\n",
    "            log['depth'] = int(depth.replace(\"d\", \"\"))\n",
    "            log['lr'] = float(lr.replace(\"lr\", \"\"))\n",
    "            log['scale'] = float(scale.replace(\"scale\", \"\"))\n",
    "            log['lp'] = lp\n",
    "            log['modal'] = modal\n",
    "            log['rank'] = 1\n",
    "        df_all.append(log)\n",
    "            \n",
    "    df_all = pd.DataFrame(df_all)\n",
    "    if filter_key is not None:\n",
    "        for key, value in filter_key.items():\n",
    "            df_all = df_all.loc[df_all[key] == value]\n",
    "    df_all = df_all.reset_index()\n",
    "    df_all_stat = df_all.groupby(['embed_dims', 'depth', 'scale', 'moe', 'lp', 'modal', 'rank']).apply(lambda x: x.loc[x[metric_name].idxmax()])\n",
    "    df_all_stat = df_all_stat.drop(columns=['embed_dims', 'depth', 'scale', 'moe', 'lp', 'modal', 'rank'])\n",
    "    df_all_stat = df_all_stat.reset_index().drop(columns=['index'])\n",
    "    df_all_stat.sort_values(by=[metric_name], ascending=False)\n",
    "    return df_all, df_all_stat"
   ]
  },
  {
   "cell_type": "markdown",
   "metadata": {},
   "source": [
    "## Classification"
   ]
  },
  {
   "cell_type": "code",
   "execution_count": null,
   "metadata": {},
   "outputs": [],
   "source": [
    "dataset = 'eurosat'\n",
    "metric_name = 'eval_accuracy'\n",
    "\n",
    "df_all, df_all_stat = collect_results(model_name, dataset, metric_name, filter_key={\"lp\": False, \"scale\": 2.0, \"ckpt\": 24600})\n",
    "df_all_stat"
   ]
  },
  {
   "cell_type": "code",
   "execution_count": null,
   "metadata": {},
   "outputs": [],
   "source": [
    "dataset = 'bigearthnet'\n",
    "metric_name = 'eval_micro_mAP'\n",
    "\n",
    "df_all, df_all_stat = collect_results(model_name, dataset, metric_name, filter_key={\"lp\": False, \"ckpt\": 24600, \"modal\": \"optical\"})\n",
    "df_all_stat"
   ]
  },
  {
   "cell_type": "code",
   "execution_count": null,
   "metadata": {},
   "outputs": [],
   "source": [
    "dataset = 'so2sat'\n",
    "metric_name = 'eval_accuracy'\n",
    "\n",
    "df_all, df_all_stat = collect_results(model_name, dataset, metric_name, filter_key={\"lp\": False, \"scale\": 4.0, \"ckpt\": 94200})\n",
    "df_all_stat"
   ]
  },
  {
   "cell_type": "markdown",
   "metadata": {},
   "source": [
    "## Segmentation"
   ]
  },
  {
   "cell_type": "code",
   "execution_count": null,
   "metadata": {},
   "outputs": [],
   "source": [
    "dataset = 'segmunich'\n",
    "metric_name = 'eval_IoU'\n",
    "\n",
    "df_all, df_all_stat = collect_results(model_name, dataset, metric_name, filter_key={\"ckpt\": 94200})\n",
    "df_all_stat"
   ]
  },
  {
   "cell_type": "code",
   "execution_count": null,
   "metadata": {},
   "outputs": [],
   "source": [
    "dataset = 'dfc2020'\n",
    "metric_name = 'eval_IoU'\n",
    "\n",
    "df_all, df_all_stat = collect_results(model_name, dataset, metric_name, filter_key={\"ckpt\": 24600})\n",
    "df_all_stat"
   ]
  },
  {
   "cell_type": "code",
   "execution_count": null,
   "metadata": {},
   "outputs": [],
   "source": [
    "dataset = 'marida'\n",
    "metric_name = 'eval_IoU'\n",
    "\n",
    "df_all, df_all_stat = collect_results(model_name, dataset, metric_name, filter_key={\"ckpt\": 94200})\n",
    "df_all_stat"
   ]
  },
  {
   "cell_type": "code",
   "execution_count": null,
   "metadata": {},
   "outputs": [],
   "source": [
    "dataset = 'landsat'\n",
    "metric_name = 'eval_IoU'\n",
    "\n",
    "df_all, df_all_stat = collect_results(model_name, dataset, metric_name, filter_key={\"ckpt\": 73800})\n",
    "df_all_stat"
   ]
  },
  {
   "cell_type": "code",
   "execution_count": null,
   "metadata": {},
   "outputs": [],
   "source": [
    "# clear_ckpts(\"bigearthnet\")\n",
    "# clear_ckpts(\"segmunich\") \n",
    "clear_ckpts(\"dfc2020\")\n",
    "clear_ckpts(\"eurosat\")\n",
    "# clear_ckpts(\"marida\")\n",
    "# clear_ckpts(\"so2sat\")\n",
    "# clear_ckpts(\"landsat\")"
   ]
  },
  {
   "cell_type": "code",
   "execution_count": null,
   "metadata": {},
   "outputs": [],
   "source": []
  }
 ],
 "metadata": {
  "kernelspec": {
   "display_name": "sat",
   "language": "python",
   "name": "python3"
  },
  "language_info": {
   "codemirror_mode": {
    "name": "ipython",
    "version": 3
   },
   "file_extension": ".py",
   "mimetype": "text/x-python",
   "name": "python",
   "nbconvert_exporter": "python",
   "pygments_lexer": "ipython3",
   "version": "3.10.0"
  }
 },
 "nbformat": 4,
 "nbformat_minor": 2
}
