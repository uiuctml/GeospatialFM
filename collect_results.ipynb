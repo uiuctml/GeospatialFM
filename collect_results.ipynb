{
 "cells": [
  {
   "cell_type": "code",
   "execution_count": 1,
   "metadata": {},
   "outputs": [],
   "source": [
    "import pandas as pd\n",
    "import matplotlib.pyplot as plt\n",
    "import seaborn as sns\n",
    "import os\n",
    "import re\n",
    "import json"
   ]
  },
  {
   "cell_type": "code",
   "execution_count": 2,
   "metadata": {},
   "outputs": [],
   "source": [
    "results_dir = './results/models'"
   ]
  },
  {
   "cell_type": "code",
   "execution_count": 3,
   "metadata": {},
   "outputs": [],
   "source": [
    "def template_to_regex(model_name, dataset, lp=False, model_postfix=''):\n",
    "    # Escape any special regex characters in model_name\n",
    "    model_prefix = re.escape(model_name)\n",
    "    model_postfix = '' if model_postfix == '' else f\"_{model_postfix}\"\n",
    "    pattern = model_prefix\n",
    "    pattern += r\"_b(\\d+)_d(\\d+)\"\n",
    "    \n",
    "    # Build the pattern in parts\n",
    "    pattern += f\"_{dataset}{model_postfix}\"  # Fixed model name prefix\n",
    "    if lp:\n",
    "        pattern += r\"_lp\"          # Optional _lp\n",
    "    pattern += r\"_lr(\\d+(?:\\.\\d+)?e?-?\\d*)\"  # Learning rate in decimal or scientific notation\n",
    "    pattern += r\"_wd(\\d+(?:\\.\\d+)?e?-?\\d*)\"  # Weight decay in decimal or scientific notation\n",
    "    pattern += r\"(.*)\"            # Any remaining postfix\n",
    "    \n",
    "    return pattern\n"
   ]
  },
  {
   "cell_type": "code",
   "execution_count": 4,
   "metadata": {},
   "outputs": [],
   "source": [
    "def get_target_logs(target_dirs, dataset):\n",
    "    results = []\n",
    "    for target_dir in target_dirs:\n",
    "        log_path = os.path.join(results_dir, target_dir, \"test_results.json\")\n",
    "        try:    \n",
    "            with open(log_path, 'r') as f:\n",
    "                log = json.load(f)\n",
    "            # log['model'] = target_dir\n",
    "        # parse the model_dir\n",
    "            log[\"base_model\"] = target_dir.split(f\"_{dataset}\")[0]\n",
    "            log['lr'] = float(re.search(r\"lr(\\d+(?:\\.\\d+)?e?-?\\d*)\", target_dir).group(1))\n",
    "            log['weight_decay'] = float(re.search(r\"wd(\\d+(?:\\.\\d+)?e?-?\\d*)\", target_dir).group(1))\n",
    "            log['checkpoint'] = int(re.search(r\"ckpt(\\d+)\", target_dir).group(1))\n",
    "            log['moe'] = int(re.search(r\"moe(-?\\d+)\", target_dir).group(1))\n",
    "            log['moe'] = 14 if log['moe'] == -1 else log['moe']\n",
    "            log['eval_accuracy'] *= 100\n",
    "            log['pretrain_depth'] = int(re.search(r\"d(\\d+)\", target_dir).group(1))\n",
    "            log['channel_dims'] = int(re.search(r\"b(\\d+)\", target_dir).group(1))\n",
    "            results.append(log)\n",
    "        except:\n",
    "            continue\n",
    "        # convert to df\n",
    "        df = pd.DataFrame(results).drop(columns=['eval_runtime', 'eval_samples_per_second', 'eval_steps_per_second'])\n",
    "    return df"
   ]
  },
  {
   "cell_type": "code",
   "execution_count": 5,
   "metadata": {},
   "outputs": [],
   "source": [
    "def get_model_name(result_dirs, model_pattern):\n",
    "    filtered_model_names = []\n",
    "    for result_dir in os.listdir(result_dirs):\n",
    "        if re.match(model_pattern, result_dir):\n",
    "            filtered_model_names.append(result_dir)\n",
    "    return filtered_model_names"
   ]
  },
  {
   "cell_type": "code",
   "execution_count": 6,
   "metadata": {},
   "outputs": [],
   "source": [
    "model_name = \"LESSVIT\"\n",
    "dataset = 'eurosat'\n",
    "lp = False\n",
    "pattern = template_to_regex(model_name, dataset, lp)\n",
    "   \n",
    "filtered_model_names = get_model_name(results_dir, pattern)\n",
    "df_all = get_target_logs(filtered_model_names, dataset)\n",
    "# filtered_model_names"
   ]
  },
  {
   "cell_type": "code",
   "execution_count": 7,
   "metadata": {},
   "outputs": [
    {
     "data": {
      "text/html": [
       "<div>\n",
       "<style scoped>\n",
       "    .dataframe tbody tr th:only-of-type {\n",
       "        vertical-align: middle;\n",
       "    }\n",
       "\n",
       "    .dataframe tbody tr th {\n",
       "        vertical-align: top;\n",
       "    }\n",
       "\n",
       "    .dataframe thead th {\n",
       "        text-align: right;\n",
       "    }\n",
       "</style>\n",
       "<table border=\"1\" class=\"dataframe\">\n",
       "  <thead>\n",
       "    <tr style=\"text-align: right;\">\n",
       "      <th></th>\n",
       "      <th>epoch</th>\n",
       "      <th>eval_accuracy</th>\n",
       "      <th>eval_loss</th>\n",
       "      <th>base_model</th>\n",
       "      <th>lr</th>\n",
       "      <th>weight_decay</th>\n",
       "      <th>checkpoint</th>\n",
       "      <th>moe</th>\n",
       "      <th>pretrain_depth</th>\n",
       "      <th>channel_dims</th>\n",
       "    </tr>\n",
       "  </thead>\n",
       "  <tbody>\n",
       "    <tr>\n",
       "      <th>0</th>\n",
       "      <td>20.0</td>\n",
       "      <td>96.981481</td>\n",
       "      <td>0.145651</td>\n",
       "      <td>LESSVIT_b1_d4</td>\n",
       "      <td>0.0003</td>\n",
       "      <td>0.01</td>\n",
       "      <td>24600</td>\n",
       "      <td>0</td>\n",
       "      <td>4</td>\n",
       "      <td>1</td>\n",
       "    </tr>\n",
       "  </tbody>\n",
       "</table>\n",
       "</div>"
      ],
      "text/plain": [
       "   epoch  eval_accuracy  eval_loss     base_model      lr  weight_decay  \\\n",
       "0   20.0      96.981481   0.145651  LESSVIT_b1_d4  0.0003          0.01   \n",
       "\n",
       "   checkpoint  moe  pretrain_depth  channel_dims  \n",
       "0       24600    0               4             1  "
      ]
     },
     "execution_count": 7,
     "metadata": {},
     "output_type": "execute_result"
    }
   ],
   "source": [
    "df_all = df_all.sort_values(by=['eval_accuracy'], ascending=False).loc[(df_all.lr==0.0003)]\n",
    "df_all\n"
   ]
  },
  {
   "cell_type": "code",
   "execution_count": 8,
   "metadata": {},
   "outputs": [
    {
     "data": {
      "text/html": [
       "<div>\n",
       "<style scoped>\n",
       "    .dataframe tbody tr th:only-of-type {\n",
       "        vertical-align: middle;\n",
       "    }\n",
       "\n",
       "    .dataframe tbody tr th {\n",
       "        vertical-align: top;\n",
       "    }\n",
       "\n",
       "    .dataframe thead th {\n",
       "        text-align: right;\n",
       "    }\n",
       "</style>\n",
       "<table border=\"1\" class=\"dataframe\">\n",
       "  <thead>\n",
       "    <tr style=\"text-align: right;\">\n",
       "      <th></th>\n",
       "      <th>epoch</th>\n",
       "      <th>eval_accuracy</th>\n",
       "      <th>eval_loss</th>\n",
       "      <th>base_model</th>\n",
       "      <th>lr</th>\n",
       "      <th>weight_decay</th>\n",
       "      <th>checkpoint</th>\n",
       "      <th>moe</th>\n",
       "      <th>pretrain_depth</th>\n",
       "      <th>channel_dims</th>\n",
       "    </tr>\n",
       "  </thead>\n",
       "  <tbody>\n",
       "  </tbody>\n",
       "</table>\n",
       "</div>"
      ],
      "text/plain": [
       "Empty DataFrame\n",
       "Columns: [epoch, eval_accuracy, eval_loss, base_model, lr, weight_decay, checkpoint, moe, pretrain_depth, channel_dims]\n",
       "Index: []"
      ]
     },
     "execution_count": 8,
     "metadata": {},
     "output_type": "execute_result"
    }
   ],
   "source": [
    "df_ckpt = df_all.loc[df_all[\"checkpoint\"]==30000].sort_values(by=['eval_accuracy'], ascending=False)\n",
    "df_ckpt"
   ]
  },
  {
   "cell_type": "code",
   "execution_count": null,
   "metadata": {},
   "outputs": [],
   "source": [
    "df_depth = df_ckpt.loc[df_ckpt[\"pretrain_depth\"]==4].sort_values(by=['eval_accuracy'], ascending=False)\n",
    "df_depth"
   ]
  },
  {
   "cell_type": "code",
   "execution_count": null,
   "metadata": {},
   "outputs": [],
   "source": [
    "df_channel = df_ckpt.loc[df_ckpt[\"channel_dims\"]==2].sort_values(by=['eval_accuracy'], ascending=False)\n",
    "df_channel\n"
   ]
  },
  {
   "cell_type": "code",
   "execution_count": null,
   "metadata": {},
   "outputs": [],
   "source": [
    "# Set up figure with 3 subplots\n",
    "fig, (ax1, ax2, ax3) = plt.subplots(1, 3, figsize=(15, 5))\n",
    "\n",
    "# Plot 1: Checkpoint ablation\n",
    "sns.lineplot(data=df_all.loc[df_all['base_model']=='LESSVIT_b1_d4'], x='checkpoint', y='eval_accuracy', hue='moe', ax=ax1)\n",
    "ax1.set_title('Effect of Checkpoint')\n",
    "ax1.set_xlabel('Checkpoint')\n",
    "ax1.set_ylabel('Accuracy (%)')\n",
    "\n",
    "# Plot 2: Channel dimensions ablation  \n",
    "sns.lineplot(data=df_all.loc[df_all['moe']==3], x='channel_dims', y='eval_accuracy', hue='checkpoint', ax=ax2)\n",
    "ax2.set_title('Effect of Channel Dimensions')\n",
    "ax2.set_xlabel('Channel Dimensions')\n",
    "ax2.set_ylabel('Accuracy (%)')\n",
    "\n",
    "# Plot 3: Pretraining depth ablation\n",
    "sns.boxplot(data=df_all, x='pretrain_depth', y='eval_accuracy', ax=ax3)\n",
    "ax3.set_title('Effect of Pretraining Depth')\n",
    "ax3.set_xlabel('Pretraining Depth')\n",
    "ax3.set_ylabel('Accuracy (%)')\n",
    "\n",
    "plt.tight_layout()\n",
    "plt.show()\n",
    "\n"
   ]
  },
  {
   "cell_type": "code",
   "execution_count": 9,
   "metadata": {},
   "outputs": [],
   "source": [
    "model_name = \"LESSVIT\"\n",
    "dataset = 'eurosat'\n",
    "lp = True\n",
    "pattern = template_to_regex(model_name, dataset, lp)\n",
    "   \n",
    "filtered_model_names = get_model_name(results_dir, pattern)\n",
    "df_lp = get_target_logs(filtered_model_names, dataset)\n",
    "# filtered_model_names"
   ]
  },
  {
   "cell_type": "code",
   "execution_count": 10,
   "metadata": {},
   "outputs": [
    {
     "data": {
      "text/html": [
       "<div>\n",
       "<style scoped>\n",
       "    .dataframe tbody tr th:only-of-type {\n",
       "        vertical-align: middle;\n",
       "    }\n",
       "\n",
       "    .dataframe tbody tr th {\n",
       "        vertical-align: top;\n",
       "    }\n",
       "\n",
       "    .dataframe thead th {\n",
       "        text-align: right;\n",
       "    }\n",
       "</style>\n",
       "<table border=\"1\" class=\"dataframe\">\n",
       "  <thead>\n",
       "    <tr style=\"text-align: right;\">\n",
       "      <th></th>\n",
       "      <th>epoch</th>\n",
       "      <th>eval_accuracy</th>\n",
       "      <th>eval_loss</th>\n",
       "      <th>base_model</th>\n",
       "      <th>lr</th>\n",
       "      <th>weight_decay</th>\n",
       "      <th>checkpoint</th>\n",
       "      <th>moe</th>\n",
       "      <th>pretrain_depth</th>\n",
       "      <th>channel_dims</th>\n",
       "    </tr>\n",
       "  </thead>\n",
       "  <tbody>\n",
       "    <tr>\n",
       "      <th>1</th>\n",
       "      <td>100.0</td>\n",
       "      <td>87.962963</td>\n",
       "      <td>0.358324</td>\n",
       "      <td>LESSVIT_b1_d4</td>\n",
       "      <td>0.01</td>\n",
       "      <td>0.01</td>\n",
       "      <td>24600</td>\n",
       "      <td>0</td>\n",
       "      <td>4</td>\n",
       "      <td>1</td>\n",
       "    </tr>\n",
       "    <tr>\n",
       "      <th>0</th>\n",
       "      <td>100.0</td>\n",
       "      <td>87.574074</td>\n",
       "      <td>0.489830</td>\n",
       "      <td>LESSVIT_b1_d4</td>\n",
       "      <td>0.05</td>\n",
       "      <td>0.01</td>\n",
       "      <td>24600</td>\n",
       "      <td>0</td>\n",
       "      <td>4</td>\n",
       "      <td>1</td>\n",
       "    </tr>\n",
       "  </tbody>\n",
       "</table>\n",
       "</div>"
      ],
      "text/plain": [
       "   epoch  eval_accuracy  eval_loss     base_model    lr  weight_decay  \\\n",
       "1  100.0      87.962963   0.358324  LESSVIT_b1_d4  0.01          0.01   \n",
       "0  100.0      87.574074   0.489830  LESSVIT_b1_d4  0.05          0.01   \n",
       "\n",
       "   checkpoint  moe  pretrain_depth  channel_dims  \n",
       "1       24600    0               4             1  \n",
       "0       24600    0               4             1  "
      ]
     },
     "execution_count": 10,
     "metadata": {},
     "output_type": "execute_result"
    }
   ],
   "source": [
    "df_lp = df_lp.sort_values(by=['eval_accuracy'], ascending=False)\n",
    "df_lp\n"
   ]
  },
  {
   "cell_type": "code",
   "execution_count": null,
   "metadata": {},
   "outputs": [],
   "source": []
  },
  {
   "cell_type": "code",
   "execution_count": null,
   "metadata": {},
   "outputs": [],
   "source": []
  }
 ],
 "metadata": {
  "kernelspec": {
   "display_name": "sat",
   "language": "python",
   "name": "python3"
  },
  "language_info": {
   "codemirror_mode": {
    "name": "ipython",
    "version": 3
   },
   "file_extension": ".py",
   "mimetype": "text/x-python",
   "name": "python",
   "nbconvert_exporter": "python",
   "pygments_lexer": "ipython3",
   "version": "3.10.0"
  }
 },
 "nbformat": 4,
 "nbformat_minor": 2
}
