{
 "cells": [
  {
   "cell_type": "code",
   "execution_count": 1,
   "metadata": {},
   "outputs": [],
   "source": [
    "import pandas as pd\n",
    "import matplotlib.pyplot as plt\n",
    "import seaborn as sns"
   ]
  },
  {
   "cell_type": "code",
   "execution_count": 20,
   "metadata": {},
   "outputs": [],
   "source": [
    "dataset = 'BigEarthNet'\n",
    "# dataset = 'EuroSAT'\n",
    "# dataset = 'So2Sat'\n",
    "models = []\n",
    "names = []\n",
    "models += ['vit_base_patch16_224']\n",
    "models += ['cvit_base_patch16_224']\n",
    "names += ['mae_vit_v2']\n",
    "names += ['mae_cvit_v2']\n",
    "# names += ['mae_base']\n",
    "# names += ['mae_vit_btnk']\n",
    "metric = 'mAP' if dataset == 'BigEarthNet' else 'image_acc'"
   ]
  },
  {
   "cell_type": "code",
   "execution_count": 21,
   "metadata": {},
   "outputs": [
    {
     "data": {
      "text/html": [
       "<div>\n",
       "<style scoped>\n",
       "    .dataframe tbody tr th:only-of-type {\n",
       "        vertical-align: middle;\n",
       "    }\n",
       "\n",
       "    .dataframe tbody tr th {\n",
       "        vertical-align: top;\n",
       "    }\n",
       "\n",
       "    .dataframe thead th {\n",
       "        text-align: right;\n",
       "    }\n",
       "</style>\n",
       "<table border=\"1\" class=\"dataframe\">\n",
       "  <thead>\n",
       "    <tr style=\"text-align: right;\">\n",
       "      <th></th>\n",
       "    </tr>\n",
       "  </thead>\n",
       "  <tbody>\n",
       "  </tbody>\n",
       "</table>\n",
       "</div>"
      ],
      "text/plain": [
       "Empty DataFrame\n",
       "Columns: []\n",
       "Index: []"
      ]
     },
     "execution_count": 21,
     "metadata": {},
     "output_type": "execute_result"
    }
   ],
   "source": [
    "df_all = pd.DataFrame()\n",
    "for model, name in zip(models, names):\n",
    "    try:\n",
    "        path = f'./results/logs/{dataset}_{model}_{name}/ft_metrics.csv'\n",
    "        df = pd.read_csv(path)\n",
    "        df.sort_values(by=[metric], inplace=True)\n",
    "    except:\n",
    "        continue\n",
    "    # df.sort_values(by=[metric], inplace=True)\n",
    "    # add model name\n",
    "    df['model'] = name\n",
    "    df_all = pd.concat([df_all, df], ignore_index=True)\n",
    "df_all"
   ]
  },
  {
   "cell_type": "code",
   "execution_count": 19,
   "metadata": {},
   "outputs": [
    {
     "ename": "AttributeError",
     "evalue": "'DataFrame' object has no attribute 'weight_decay'",
     "output_type": "error",
     "traceback": [
      "\u001b[0;31m---------------------------------------------------------------------------\u001b[0m",
      "\u001b[0;31mAttributeError\u001b[0m                            Traceback (most recent call last)",
      "\u001b[0;32m/tmp/ipykernel_3578414/166782868.py\u001b[0m in \u001b[0;36m?\u001b[0;34m()\u001b[0m\n\u001b[0;32m----> 1\u001b[0;31m \u001b[0msns\u001b[0m\u001b[0;34m.\u001b[0m\u001b[0mlineplot\u001b[0m\u001b[0;34m(\u001b[0m\u001b[0mdata\u001b[0m\u001b[0;34m=\u001b[0m\u001b[0mdf_all\u001b[0m\u001b[0;34m.\u001b[0m\u001b[0mloc\u001b[0m\u001b[0;34m[\u001b[0m\u001b[0mdf_all\u001b[0m\u001b[0;34m.\u001b[0m\u001b[0mweight_decay\u001b[0m\u001b[0;34m==\u001b[0m\u001b[0;36m1e-3\u001b[0m\u001b[0;34m]\u001b[0m\u001b[0;34m,\u001b[0m \u001b[0mx\u001b[0m\u001b[0;34m=\u001b[0m\u001b[0;34m'lr'\u001b[0m\u001b[0;34m,\u001b[0m \u001b[0my\u001b[0m\u001b[0;34m=\u001b[0m\u001b[0mmetric\u001b[0m\u001b[0;34m,\u001b[0m \u001b[0mhue\u001b[0m\u001b[0;34m=\u001b[0m\u001b[0;34m'model'\u001b[0m\u001b[0;34m)\u001b[0m\u001b[0;34m\u001b[0m\u001b[0;34m\u001b[0m\u001b[0m\n\u001b[0m\u001b[1;32m      2\u001b[0m \u001b[0;31m# set x axis log scale\u001b[0m\u001b[0;34m\u001b[0m\u001b[0;34m\u001b[0m\u001b[0m\n\u001b[1;32m      3\u001b[0m \u001b[0mplt\u001b[0m\u001b[0;34m.\u001b[0m\u001b[0mxscale\u001b[0m\u001b[0;34m(\u001b[0m\u001b[0;34m'log'\u001b[0m\u001b[0;34m)\u001b[0m\u001b[0;34m\u001b[0m\u001b[0;34m\u001b[0m\u001b[0m\n",
      "\u001b[0;32m~/anaconda3/envs/sat/lib/python3.10/site-packages/pandas/core/generic.py\u001b[0m in \u001b[0;36m?\u001b[0;34m(self, name)\u001b[0m\n\u001b[1;32m   5985\u001b[0m             \u001b[0;32mand\u001b[0m \u001b[0mname\u001b[0m \u001b[0;32mnot\u001b[0m \u001b[0;32min\u001b[0m \u001b[0mself\u001b[0m\u001b[0;34m.\u001b[0m\u001b[0m_accessors\u001b[0m\u001b[0;34m\u001b[0m\u001b[0;34m\u001b[0m\u001b[0m\n\u001b[1;32m   5986\u001b[0m             \u001b[0;32mand\u001b[0m \u001b[0mself\u001b[0m\u001b[0;34m.\u001b[0m\u001b[0m_info_axis\u001b[0m\u001b[0;34m.\u001b[0m\u001b[0m_can_hold_identifiers_and_holds_name\u001b[0m\u001b[0;34m(\u001b[0m\u001b[0mname\u001b[0m\u001b[0;34m)\u001b[0m\u001b[0;34m\u001b[0m\u001b[0;34m\u001b[0m\u001b[0m\n\u001b[1;32m   5987\u001b[0m         ):\n\u001b[1;32m   5988\u001b[0m             \u001b[0;32mreturn\u001b[0m \u001b[0mself\u001b[0m\u001b[0;34m[\u001b[0m\u001b[0mname\u001b[0m\u001b[0;34m]\u001b[0m\u001b[0;34m\u001b[0m\u001b[0;34m\u001b[0m\u001b[0m\n\u001b[0;32m-> 5989\u001b[0;31m         \u001b[0;32mreturn\u001b[0m \u001b[0mobject\u001b[0m\u001b[0;34m.\u001b[0m\u001b[0m__getattribute__\u001b[0m\u001b[0;34m(\u001b[0m\u001b[0mself\u001b[0m\u001b[0;34m,\u001b[0m \u001b[0mname\u001b[0m\u001b[0;34m)\u001b[0m\u001b[0;34m\u001b[0m\u001b[0;34m\u001b[0m\u001b[0m\n\u001b[0m",
      "\u001b[0;31mAttributeError\u001b[0m: 'DataFrame' object has no attribute 'weight_decay'"
     ]
    }
   ],
   "source": [
    "sns.lineplot(data=df_all.loc[df_all.weight_decay==1e-3], x='lr', y=metric, hue='model')\n",
    "# set x axis log scale\n",
    "plt.xscale('log')"
   ]
  },
  {
   "cell_type": "code",
   "execution_count": 22,
   "metadata": {},
   "outputs": [
    {
     "data": {
      "text/html": [
       "<div>\n",
       "<style scoped>\n",
       "    .dataframe tbody tr th:only-of-type {\n",
       "        vertical-align: middle;\n",
       "    }\n",
       "\n",
       "    .dataframe tbody tr th {\n",
       "        vertical-align: top;\n",
       "    }\n",
       "\n",
       "    .dataframe thead th {\n",
       "        text-align: right;\n",
       "    }\n",
       "</style>\n",
       "<table border=\"1\" class=\"dataframe\">\n",
       "  <thead>\n",
       "    <tr style=\"text-align: right;\">\n",
       "      <th></th>\n",
       "      <th>epochs</th>\n",
       "      <th>lr</th>\n",
       "      <th>weight_decay</th>\n",
       "      <th>bce</th>\n",
       "      <th>loss</th>\n",
       "      <th>mAP</th>\n",
       "      <th>epoch</th>\n",
       "      <th>num_samples</th>\n",
       "      <th>model</th>\n",
       "    </tr>\n",
       "  </thead>\n",
       "  <tbody>\n",
       "    <tr>\n",
       "      <th>0</th>\n",
       "      <td>100</td>\n",
       "      <td>0.005</td>\n",
       "      <td>0</td>\n",
       "      <td>0.222095</td>\n",
       "      <td>0.222095</td>\n",
       "      <td>0.359571</td>\n",
       "      <td>100</td>\n",
       "      <td>125866</td>\n",
       "      <td>mae_vit_v2</td>\n",
       "    </tr>\n",
       "    <tr>\n",
       "      <th>1</th>\n",
       "      <td>100</td>\n",
       "      <td>0.010</td>\n",
       "      <td>0</td>\n",
       "      <td>0.216757</td>\n",
       "      <td>0.216757</td>\n",
       "      <td>0.378789</td>\n",
       "      <td>100</td>\n",
       "      <td>125866</td>\n",
       "      <td>mae_vit_v2</td>\n",
       "    </tr>\n",
       "    <tr>\n",
       "      <th>2</th>\n",
       "      <td>100</td>\n",
       "      <td>0.050</td>\n",
       "      <td>0</td>\n",
       "      <td>0.208655</td>\n",
       "      <td>0.208655</td>\n",
       "      <td>0.412426</td>\n",
       "      <td>100</td>\n",
       "      <td>125866</td>\n",
       "      <td>mae_vit_v2</td>\n",
       "    </tr>\n",
       "    <tr>\n",
       "      <th>3</th>\n",
       "      <td>100</td>\n",
       "      <td>0.070</td>\n",
       "      <td>0</td>\n",
       "      <td>0.207826</td>\n",
       "      <td>0.207826</td>\n",
       "      <td>0.415540</td>\n",
       "      <td>100</td>\n",
       "      <td>125866</td>\n",
       "      <td>mae_vit_v2</td>\n",
       "    </tr>\n",
       "    <tr>\n",
       "      <th>4</th>\n",
       "      <td>100</td>\n",
       "      <td>0.100</td>\n",
       "      <td>0</td>\n",
       "      <td>0.207061</td>\n",
       "      <td>0.207061</td>\n",
       "      <td>0.419464</td>\n",
       "      <td>100</td>\n",
       "      <td>125866</td>\n",
       "      <td>mae_vit_v2</td>\n",
       "    </tr>\n",
       "    <tr>\n",
       "      <th>5</th>\n",
       "      <td>100</td>\n",
       "      <td>0.005</td>\n",
       "      <td>0</td>\n",
       "      <td>0.217534</td>\n",
       "      <td>0.217534</td>\n",
       "      <td>0.370212</td>\n",
       "      <td>100</td>\n",
       "      <td>125866</td>\n",
       "      <td>mae_cvit_v2</td>\n",
       "    </tr>\n",
       "    <tr>\n",
       "      <th>6</th>\n",
       "      <td>100</td>\n",
       "      <td>0.010</td>\n",
       "      <td>0</td>\n",
       "      <td>0.212792</td>\n",
       "      <td>0.212792</td>\n",
       "      <td>0.384839</td>\n",
       "      <td>100</td>\n",
       "      <td>125866</td>\n",
       "      <td>mae_cvit_v2</td>\n",
       "    </tr>\n",
       "    <tr>\n",
       "      <th>7</th>\n",
       "      <td>100</td>\n",
       "      <td>0.050</td>\n",
       "      <td>0</td>\n",
       "      <td>0.206228</td>\n",
       "      <td>0.206228</td>\n",
       "      <td>0.409205</td>\n",
       "      <td>100</td>\n",
       "      <td>125866</td>\n",
       "      <td>mae_cvit_v2</td>\n",
       "    </tr>\n",
       "    <tr>\n",
       "      <th>8</th>\n",
       "      <td>100</td>\n",
       "      <td>0.070</td>\n",
       "      <td>0</td>\n",
       "      <td>0.205544</td>\n",
       "      <td>0.205544</td>\n",
       "      <td>0.411661</td>\n",
       "      <td>100</td>\n",
       "      <td>125866</td>\n",
       "      <td>mae_cvit_v2</td>\n",
       "    </tr>\n",
       "    <tr>\n",
       "      <th>9</th>\n",
       "      <td>100</td>\n",
       "      <td>0.100</td>\n",
       "      <td>0</td>\n",
       "      <td>0.204959</td>\n",
       "      <td>0.204959</td>\n",
       "      <td>0.414813</td>\n",
       "      <td>100</td>\n",
       "      <td>125866</td>\n",
       "      <td>mae_cvit_v2</td>\n",
       "    </tr>\n",
       "  </tbody>\n",
       "</table>\n",
       "</div>"
      ],
      "text/plain": [
       "   epochs     lr  weight_decay       bce      loss       mAP  epoch  \\\n",
       "0     100  0.005             0  0.222095  0.222095  0.359571    100   \n",
       "1     100  0.010             0  0.216757  0.216757  0.378789    100   \n",
       "2     100  0.050             0  0.208655  0.208655  0.412426    100   \n",
       "3     100  0.070             0  0.207826  0.207826  0.415540    100   \n",
       "4     100  0.100             0  0.207061  0.207061  0.419464    100   \n",
       "5     100  0.005             0  0.217534  0.217534  0.370212    100   \n",
       "6     100  0.010             0  0.212792  0.212792  0.384839    100   \n",
       "7     100  0.050             0  0.206228  0.206228  0.409205    100   \n",
       "8     100  0.070             0  0.205544  0.205544  0.411661    100   \n",
       "9     100  0.100             0  0.204959  0.204959  0.414813    100   \n",
       "\n",
       "   num_samples        model  \n",
       "0       125866   mae_vit_v2  \n",
       "1       125866   mae_vit_v2  \n",
       "2       125866   mae_vit_v2  \n",
       "3       125866   mae_vit_v2  \n",
       "4       125866   mae_vit_v2  \n",
       "5       125866  mae_cvit_v2  \n",
       "6       125866  mae_cvit_v2  \n",
       "7       125866  mae_cvit_v2  \n",
       "8       125866  mae_cvit_v2  \n",
       "9       125866  mae_cvit_v2  "
      ]
     },
     "execution_count": 22,
     "metadata": {},
     "output_type": "execute_result"
    }
   ],
   "source": [
    "df_all = pd.DataFrame()\n",
    "for model, name in zip(models, names):\n",
    "    try:\n",
    "        path = f'./results/logs/{dataset}_{model}_{name}/lp_metrics.csv'\n",
    "        df = pd.read_csv(path)\n",
    "        df.sort_values(by=[metric], inplace=True)\n",
    "    except:\n",
    "        continue\n",
    "    # df.sort_values(by=[metric], inplace=True)\n",
    "    # add model name\n",
    "    df['model'] = name\n",
    "    df_all = pd.concat([df_all, df], ignore_index=True)\n",
    "df_all"
   ]
  },
  {
   "cell_type": "code",
   "execution_count": 23,
   "metadata": {},
   "outputs": [
    {
     "data": {
      "text/plain": [
       "<Axes: xlabel='lr', ylabel='mAP'>"
      ]
     },
     "execution_count": 23,
     "metadata": {},
     "output_type": "execute_result"
    },
    {
     "data": {
      "image/png": "[encoded data removed]",
      "text/plain": [
       "<Figure size 640x480 with 1 Axes>"
      ]
     },
     "metadata": {},
     "output_type": "display_data"
    }
   ],
   "source": [
    "sns.lineplot(data=df_all.loc[df_all.epochs==100], x='lr', y=metric, hue='model')"
   ]
  },
  {
   "cell_type": "code",
   "execution_count": null,
   "metadata": {},
   "outputs": [],
   "source": []
  }
 ],
 "metadata": {
  "kernelspec": {
   "display_name": "sat",
   "language": "python",
   "name": "python3"
  },
  "language_info": {
   "codemirror_mode": {
    "name": "ipython",
    "version": 3
   },
   "file_extension": ".py",
   "mimetype": "text/x-python",
   "name": "python",
   "nbconvert_exporter": "python",
   "pygments_lexer": "ipython3",
   "version": "3.10.0"
  }
 },
 "nbformat": 4,
 "nbformat_minor": 2
}
