{
 "cells": [
  {
   "cell_type": "code",
   "execution_count": 1,
   "metadata": {},
   "outputs": [],
   "source": [
    "import pandas as pd\n",
    "import matplotlib.pyplot as plt\n",
    "import seaborn as sns"
   ]
  },
  {
   "cell_type": "code",
   "execution_count": 54,
   "metadata": {},
   "outputs": [],
   "source": [
    "# dataset = 'BigEarthNet'\n",
    "dataset = 'EuroSAT'\n",
    "prefix = 'c'\n",
    "# prefix = ''\n",
    "postfix = ''\n",
    "# postfix = '_b'\n",
    "model = f'{prefix}vit_base_patch16_224'\n",
    "# name = f'mae_{prefix}vit{postfix}'\n",
    "name  = f'mae_rca_vit'\n",
    "metric = 'mAP' if dataset == 'BigEarthNet' else 'image_acc'"
   ]
  },
  {
   "cell_type": "code",
   "execution_count": 55,
   "metadata": {},
   "outputs": [],
   "source": [
    "path = f'./results/logs/{dataset}_{model}_{name}/ft_metrics.csv'\n",
    "df = pd.read_csv(path)\n",
    "df.sort_values(by=[metric], inplace=True)"
   ]
  },
  {
   "cell_type": "code",
   "execution_count": 56,
   "metadata": {},
   "outputs": [
    {
     "data": {
      "text/html": [
       "<div>\n",
       "<style scoped>\n",
       "    .dataframe tbody tr th:only-of-type {\n",
       "        vertical-align: middle;\n",
       "    }\n",
       "\n",
       "    .dataframe tbody tr th {\n",
       "        vertical-align: top;\n",
       "    }\n",
       "\n",
       "    .dataframe thead th {\n",
       "        text-align: right;\n",
       "    }\n",
       "</style>\n",
       "<table border=\"1\" class=\"dataframe\">\n",
       "  <thead>\n",
       "    <tr style=\"text-align: right;\">\n",
       "      <th></th>\n",
       "      <th>epochs</th>\n",
       "      <th>lr</th>\n",
       "      <th>weight_decay</th>\n",
       "      <th>ce</th>\n",
       "      <th>loss</th>\n",
       "      <th>image_acc</th>\n",
       "      <th>epoch</th>\n",
       "      <th>num_samples</th>\n",
       "    </tr>\n",
       "  </thead>\n",
       "  <tbody>\n",
       "    <tr>\n",
       "      <th>0</th>\n",
       "      <td>10</td>\n",
       "      <td>0.0050</td>\n",
       "      <td>0.05</td>\n",
       "      <td>1.717545</td>\n",
       "      <td>1.717545</td>\n",
       "      <td>0.350926</td>\n",
       "      <td>10</td>\n",
       "      <td>5400</td>\n",
       "    </tr>\n",
       "    <tr>\n",
       "      <th>1</th>\n",
       "      <td>10</td>\n",
       "      <td>0.0005</td>\n",
       "      <td>0.05</td>\n",
       "      <td>0.295543</td>\n",
       "      <td>0.295543</td>\n",
       "      <td>0.899630</td>\n",
       "      <td>10</td>\n",
       "      <td>5400</td>\n",
       "    </tr>\n",
       "    <tr>\n",
       "      <th>2</th>\n",
       "      <td>10</td>\n",
       "      <td>0.0001</td>\n",
       "      <td>0.05</td>\n",
       "      <td>0.277614</td>\n",
       "      <td>0.277614</td>\n",
       "      <td>0.909630</td>\n",
       "      <td>10</td>\n",
       "      <td>5400</td>\n",
       "    </tr>\n",
       "  </tbody>\n",
       "</table>\n",
       "</div>"
      ],
      "text/plain": [
       "   epochs      lr  weight_decay        ce      loss  image_acc  epoch  \\\n",
       "0      10  0.0050          0.05  1.717545  1.717545   0.350926     10   \n",
       "1      10  0.0005          0.05  0.295543  0.295543   0.899630     10   \n",
       "2      10  0.0001          0.05  0.277614  0.277614   0.909630     10   \n",
       "\n",
       "   num_samples  \n",
       "0         5400  \n",
       "1         5400  \n",
       "2         5400  "
      ]
     },
     "execution_count": 56,
     "metadata": {},
     "output_type": "execute_result"
    }
   ],
   "source": [
    "df"
   ]
  },
  {
   "cell_type": "code",
   "execution_count": 57,
   "metadata": {},
   "outputs": [
    {
     "data": {
      "image/png": "[encoded data removed]",
      "text/plain": [
       "<Figure size 640x480 with 1 Axes>"
      ]
     },
     "metadata": {},
     "output_type": "display_data"
    }
   ],
   "source": [
    "sns.lineplot(data=df, x='lr', y='image_acc', hue='weight_decay')\n",
    "# set x axis log scale\n",
    "plt.xscale('log')"
   ]
  },
  {
   "cell_type": "code",
   "execution_count": 58,
   "metadata": {},
   "outputs": [],
   "source": [
    "path = f'./results/logs/{dataset}_{model}_{name}/lp_metrics.csv'\n",
    "df = pd.read_csv(path)\n",
    "df.sort_values(by=[metric], inplace=True)"
   ]
  },
  {
   "cell_type": "code",
   "execution_count": 59,
   "metadata": {},
   "outputs": [
    {
     "data": {
      "text/html": [
       "<div>\n",
       "<style scoped>\n",
       "    .dataframe tbody tr th:only-of-type {\n",
       "        vertical-align: middle;\n",
       "    }\n",
       "\n",
       "    .dataframe tbody tr th {\n",
       "        vertical-align: top;\n",
       "    }\n",
       "\n",
       "    .dataframe thead th {\n",
       "        text-align: right;\n",
       "    }\n",
       "</style>\n",
       "<table border=\"1\" class=\"dataframe\">\n",
       "  <thead>\n",
       "    <tr style=\"text-align: right;\">\n",
       "      <th></th>\n",
       "      <th>epochs</th>\n",
       "      <th>lr</th>\n",
       "      <th>weight_decay</th>\n",
       "      <th>ce</th>\n",
       "      <th>loss</th>\n",
       "      <th>image_acc</th>\n",
       "      <th>epoch</th>\n",
       "      <th>num_samples</th>\n",
       "    </tr>\n",
       "  </thead>\n",
       "  <tbody>\n",
       "    <tr>\n",
       "      <th>6</th>\n",
       "      <td>100</td>\n",
       "      <td>0.001</td>\n",
       "      <td>0</td>\n",
       "      <td>0.503294</td>\n",
       "      <td>0.503294</td>\n",
       "      <td>0.853704</td>\n",
       "      <td>100</td>\n",
       "      <td>5400</td>\n",
       "    </tr>\n",
       "    <tr>\n",
       "      <th>5</th>\n",
       "      <td>100</td>\n",
       "      <td>0.005</td>\n",
       "      <td>0</td>\n",
       "      <td>0.357826</td>\n",
       "      <td>0.357826</td>\n",
       "      <td>0.891481</td>\n",
       "      <td>100</td>\n",
       "      <td>5400</td>\n",
       "    </tr>\n",
       "    <tr>\n",
       "      <th>4</th>\n",
       "      <td>100</td>\n",
       "      <td>0.010</td>\n",
       "      <td>0</td>\n",
       "      <td>0.320274</td>\n",
       "      <td>0.320274</td>\n",
       "      <td>0.902222</td>\n",
       "      <td>100</td>\n",
       "      <td>5400</td>\n",
       "    </tr>\n",
       "    <tr>\n",
       "      <th>3</th>\n",
       "      <td>100</td>\n",
       "      <td>0.050</td>\n",
       "      <td>0</td>\n",
       "      <td>0.280845</td>\n",
       "      <td>0.280845</td>\n",
       "      <td>0.911111</td>\n",
       "      <td>100</td>\n",
       "      <td>5400</td>\n",
       "    </tr>\n",
       "    <tr>\n",
       "      <th>1</th>\n",
       "      <td>100</td>\n",
       "      <td>0.300</td>\n",
       "      <td>0</td>\n",
       "      <td>0.377015</td>\n",
       "      <td>0.377015</td>\n",
       "      <td>0.911481</td>\n",
       "      <td>100</td>\n",
       "      <td>5400</td>\n",
       "    </tr>\n",
       "    <tr>\n",
       "      <th>2</th>\n",
       "      <td>100</td>\n",
       "      <td>0.100</td>\n",
       "      <td>0</td>\n",
       "      <td>0.273854</td>\n",
       "      <td>0.273854</td>\n",
       "      <td>0.911852</td>\n",
       "      <td>100</td>\n",
       "      <td>5400</td>\n",
       "    </tr>\n",
       "    <tr>\n",
       "      <th>0</th>\n",
       "      <td>100</td>\n",
       "      <td>0.200</td>\n",
       "      <td>0</td>\n",
       "      <td>0.297177</td>\n",
       "      <td>0.297177</td>\n",
       "      <td>0.912407</td>\n",
       "      <td>100</td>\n",
       "      <td>5400</td>\n",
       "    </tr>\n",
       "  </tbody>\n",
       "</table>\n",
       "</div>"
      ],
      "text/plain": [
       "   epochs     lr  weight_decay        ce      loss  image_acc  epoch  \\\n",
       "6     100  0.001             0  0.503294  0.503294   0.853704    100   \n",
       "5     100  0.005             0  0.357826  0.357826   0.891481    100   \n",
       "4     100  0.010             0  0.320274  0.320274   0.902222    100   \n",
       "3     100  0.050             0  0.280845  0.280845   0.911111    100   \n",
       "1     100  0.300             0  0.377015  0.377015   0.911481    100   \n",
       "2     100  0.100             0  0.273854  0.273854   0.911852    100   \n",
       "0     100  0.200             0  0.297177  0.297177   0.912407    100   \n",
       "\n",
       "   num_samples  \n",
       "6         5400  \n",
       "5         5400  \n",
       "4         5400  \n",
       "3         5400  \n",
       "1         5400  \n",
       "2         5400  \n",
       "0         5400  "
      ]
     },
     "execution_count": 59,
     "metadata": {},
     "output_type": "execute_result"
    }
   ],
   "source": [
    "df"
   ]
  },
  {
   "cell_type": "code",
   "execution_count": 60,
   "metadata": {},
   "outputs": [
    {
     "data": {
      "text/plain": [
       "<Axes: xlabel='lr', ylabel='image_acc'>"
      ]
     },
     "execution_count": 60,
     "metadata": {},
     "output_type": "execute_result"
    },
    {
     "data": {
      "image/png": "[encoded data removed]",
      "text/plain": [
       "<Figure size 640x480 with 1 Axes>"
      ]
     },
     "metadata": {},
     "output_type": "display_data"
    }
   ],
   "source": [
    "sns.lineplot(data=df, x='lr', y=metric, hue='weight_decay')"
   ]
  },
  {
   "cell_type": "code",
   "execution_count": null,
   "metadata": {},
   "outputs": [],
   "source": []
  }
 ],
 "metadata": {
  "kernelspec": {
   "display_name": "sat",
   "language": "python",
   "name": "python3"
  },
  "language_info": {
   "codemirror_mode": {
    "name": "ipython",
    "version": 3
   },
   "file_extension": ".py",
   "mimetype": "text/x-python",
   "name": "python",
   "nbconvert_exporter": "python",
   "pygments_lexer": "ipython3",
   "version": "3.10.0"
  }
 },
 "nbformat": 4,
 "nbformat_minor": 2
}
